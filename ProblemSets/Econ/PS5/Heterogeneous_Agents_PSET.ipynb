{
 "cells": [
  {
   "cell_type": "code",
   "execution_count": 1,
   "metadata": {},
   "outputs": [],
   "source": [
    "import numpy as np\n",
    "from scipy.optimize import fsolve\n",
    "import matplotlib.pyplot as plt\n",
    "from numba import jit"
   ]
  },
  {
   "cell_type": "code",
   "execution_count": 2,
   "metadata": {},
   "outputs": [],
   "source": [
    "## set some parameters for the model\n",
    "N = 250\n",
    "beta = .96\n",
    "delta = .06\n",
    "alpha = .36\n",
    "trans_mat = np.array([[.9,.1],[.9,.1]])\n",
    "u = .1"
   ]
  },
  {
   "cell_type": "code",
   "execution_count": 3,
   "metadata": {},
   "outputs": [],
   "source": [
    "@jit\n",
    "def mp_r(k_bar, u, alpha):\n",
    "    r = alpha * k_bar ** (alpha-1) * (1-u)**(1-alpha)\n",
    "    return r\n",
    "@jit\n",
    "def mp_w(k_bar, u, alpha):\n",
    "    w = (1-alpha) * k_bar**alpha * (1-u)**(-alpha)\n",
    "    return w\n",
    "@jit\n",
    "def utility(c):\n",
    "    if c < 0:\n",
    "        return -10000\n",
    "    U = np.log(c)\n",
    "    return U"
   ]
  },
  {
   "cell_type": "code",
   "execution_count": 4,
   "metadata": {},
   "outputs": [],
   "source": [
    "@jit\n",
    "def bellman_eqn(k_prime, k_prime_ind, *params):\n",
    "    val_func, k, r_k_bar, w_k_bar, eps, eps_ind, \\\n",
    "    delta, beta, trans_mat = params\n",
    "    \n",
    "    u_kprime = utility(r_k_bar*k + eps*w_k_bar + (1-delta)*k - k_prime)\n",
    "    expectation = trans_mat[:,eps_ind] @ val_func[:, k_prime_ind]\n",
    "    value = u_kprime + beta*expectation\n",
    "\n",
    "    return value"
   ]
  },
  {
   "cell_type": "code",
   "execution_count": 12,
   "metadata": {},
   "outputs": [],
   "source": [
    "##perform value function iteration\n",
    "k_bar_guess = 10.125646475903626\n",
    "k_grid = np.linspace(0.001, 40, N)\n",
    "num_shocks = 2\n",
    "maxiter = 2000\n",
    "mindist = 1e-8\n",
    "shocks = np.array([1,0])\n",
    "val_guess = np.tile(np.log(k_grid + 1), (num_shocks, 1))\n",
    "params = (num_shocks, shocks, maxiter, mindist, beta, delta, alpha, trans_mat, u, val_guess)\n",
    "\n"
   ]
  },
  {
   "cell_type": "code",
   "execution_count": 13,
   "metadata": {},
   "outputs": [],
   "source": [
    "@jit(nopython=True)\n",
    "def VFI(k_bar_guess, k_grid,  *params, ):\n",
    "    num_shocks, shocks, maxiter, mindist, beta, delta, alpha, trans_mat, u, val_guess = params\n",
    "    dist = 100\n",
    "    val_iter = 0\n",
    "    init_val = val_guess\n",
    "    updated_val = init_val\n",
    "    init_policy = np.ones(init_val.shape)\n",
    "    updated_policy = np.zeros(init_val.shape)\n",
    "    r_k_bar = mp_r(k_bar_guess, u, alpha)\n",
    "    w_k_bar = mp_w(k_bar_guess, u, alpha)\n",
    "    while (val_iter < maxiter) and (dist > mindist):\n",
    "        val_iter += 1\n",
    "        init_val = updated_val\n",
    "        updated_val = np.zeros(init_val.shape)\n",
    "        updated_policy = np.zeros(init_val.shape)\n",
    "\n",
    "        for i in range(len(k_grid)):\n",
    "\n",
    "            for j in range(num_shocks):\n",
    "\n",
    "                k_index = i\n",
    "                k = k_grid[i]\n",
    "                eps = shocks[j]\n",
    "                eps_ind = j\n",
    "\n",
    "                params2 = (init_val, k, r_k_bar, w_k_bar, eps, eps_ind, \\\n",
    "                          delta, beta, trans_mat)\n",
    "                vals = np.zeros(len(k_grid))\n",
    "                count = 0\n",
    "                for t in range(len(k_grid)):\n",
    "                    kprime = k_grid[t]\n",
    "                    val = bellman_eqn(kprime, t,  *params2)\n",
    "                    vals[count] = val\n",
    "\n",
    "                    count +=1\n",
    "                #print(\"Vals:  {}\".format(vals))\n",
    "                updated_val[eps_ind, k_index] = vals[np.argmax(vals)]\n",
    "                updated_policy[eps_ind, k_index] = k_grid[np.argmax(vals)]\n",
    "\n",
    "        dist = ((updated_val - init_val) ** 2).sum()\n",
    "#         if val_iter %5 == 0:\n",
    "#             print('Iteration=', val_iter, ', Dist=', dist)\n",
    "    return updated_val, updated_policy"
   ]
  },
  {
   "cell_type": "code",
   "execution_count": 14,
   "metadata": {},
   "outputs": [
    {
     "name": "stdout",
     "output_type": "stream",
     "text": [
      "CPU times: user 14.4 s, sys: 64.1 ms, total: 14.4 s\n",
      "Wall time: 14.4 s\n"
     ]
    }
   ],
   "source": [
    "%%time\n",
    "value_function, policy_function = VFI(k_bar_guess, k_grid, *params)"
   ]
  },
  {
   "cell_type": "code",
   "execution_count": 15,
   "metadata": {},
   "outputs": [],
   "source": [
    "@jit(nopython=True)\n",
    "def simulate_agent(policy_function, period_length, k_grid, guess_ind):\n",
    "    np.random.seed(0)\n",
    "    k_time_series = np.zeros(period_length)\n",
    "    k_time_series[0] = k_grid[guess_ind]\n",
    "    k_time_inds = np.empty(period_length, dtype=np.int64)\n",
    "    k_time_inds[0] = guess_ind\n",
    "    for i in range(1, period_length):\n",
    "        rand_num = np.random.random()\n",
    "        if rand_num > .1:\n",
    "            state = 0\n",
    "        else: state = 1\n",
    "        k_time_series[i] = policy_function[state, k_time_inds[i-1]]\n",
    "        k_time_inds[i] = np.where(k_grid == k_time_series[i])[0][0]\n",
    "    avg_k = np.mean(k_time_series)\n",
    "    #plt.plot(np.linspace(0, period_length, period_length), k_time_series)\n",
    "    return avg_k"
   ]
  },
  {
   "cell_type": "code",
   "execution_count": 9,
   "metadata": {},
   "outputs": [],
   "source": [
    "#simulate_agent(policy_function, 200, k_grid, 45)\n"
   ]
  },
  {
   "cell_type": "code",
   "execution_count": 16,
   "metadata": {},
   "outputs": [],
   "source": [
    "params = (num_shocks, shocks, maxiter, mindist, beta, \\\n",
    "          delta, alpha, trans_mat, u, val_guess)\n",
    "\n",
    "k_bar_guess = 7.229734939759037\n",
    "@jit(nopython=True)\n",
    "def find_kstar(k_bar_guess, k_grid, itermax, tol, *params):\n",
    "    k_bar = 0\n",
    "    k_bar_ind = 0\n",
    "    dist = 100\n",
    "    iter_num = 0\n",
    "    value_function = np.zeros((2, 250))\n",
    "    policy_function = np.zeros((2,250))\n",
    "    while dist > tol and iter_num < itermax:\n",
    "        iter_num +=1 \n",
    "        k_bar_ind = np.argmin(np.abs(k_grid - k_bar_guess))\n",
    "        value_function, policy_function = VFI(k_bar_guess, k_grid, *params,)\n",
    "        \n",
    "        k_bar = simulate_agent(policy_function, 500, k_grid, k_bar_ind)\n",
    "        \n",
    "        dist = np.abs(k_bar - k_bar_guess)\n",
    "        k_bar_guess = k_bar\n",
    "        print(k_bar)\n",
    "        #print('Iteration {}, Distance {}, k_bar {}'.format(iter_num, dist,k_bar))\n",
    "    k_star = k_bar_guess\n",
    "    return k_star\n",
    "        \n",
    "    "
   ]
  },
  {
   "cell_type": "code",
   "execution_count": null,
   "metadata": {},
   "outputs": [
    {
     "name": "stdout",
     "output_type": "stream",
     "text": [
      "15.8158656626506\n",
      "9.211613102409654\n",
      "11.093092168674708\n",
      "9.662204246987956\n",
      "10.611578102409648\n",
      "9.90155569277109\n",
      "10.44170283132531\n",
      "10.032074518072296\n",
      "10.301545692771095\n",
      "10.125646475903626\n",
      "10.275441927710853\n",
      "10.125646475903626\n",
      "10.275441927710853\n",
      "10.125646475903626\n",
      "10.275441927710853\n",
      "10.125646475903626\n",
      "10.275441927710853\n",
      "10.125646475903626\n",
      "10.275441927710853\n"
     ]
    }
   ],
   "source": [
    "k_star = find_kstar(k_bar_guess, k_grid, 1000, .1,  *params)"
   ]
  },
  {
   "cell_type": "code",
   "execution_count": 17,
   "metadata": {},
   "outputs": [],
   "source": [
    "k_star = 10.125646475903626\n",
    "interest_rate = mp_r(k_star, u, alpha)"
   ]
  },
  {
   "cell_type": "code",
   "execution_count": 18,
   "metadata": {},
   "outputs": [
    {
     "data": {
      "text/plain": [
       "0.07647986983215915"
      ]
     },
     "execution_count": 18,
     "metadata": {},
     "output_type": "execute_result"
    }
   ],
   "source": [
    "interest_rate"
   ]
  },
  {
   "cell_type": "code",
   "execution_count": 20,
   "metadata": {},
   "outputs": [
    {
     "data": {
      "image/png": "[encoded data removed]",
      "text/plain": [
       "<Figure size 432x288 with 1 Axes>"
      ]
     },
     "metadata": {},
     "output_type": "display_data"
    }
   ],
   "source": [
    "plt.plot(k_grid, policy_function[0], label = 'policy function, Epsilon = 1')\n",
    "plt.plot(k_grid, policy_function[1], label= 'policy function Epsilon = 2')\n",
    "plt.legend()\n",
    "plt.show()"
   ]
  },
  {
   "cell_type": "markdown",
   "metadata": {},
   "source": [
    "The steady state interest rate is lower in this economy than in a representative agent economy, this is because heterogenous agents save more as a precaution for employment shocks. "
   ]
  },
  {
   "cell_type": "code",
   "execution_count": null,
   "metadata": {},
   "outputs": [],
   "source": []
  }
 ],
 "metadata": {
  "kernelspec": {
   "display_name": "Python 3",
   "language": "python",
   "name": "python3"
  },
  "language_info": {
   "codemirror_mode": {
    "name": "ipython",
    "version": 3
   },
   "file_extension": ".py",
   "mimetype": "text/x-python",
   "name": "python",
   "nbconvert_exporter": "python",
   "pygments_lexer": "ipython3",
   "version": "3.6.8"
  }
 },
 "nbformat": 4,
 "nbformat_minor": 2
}
