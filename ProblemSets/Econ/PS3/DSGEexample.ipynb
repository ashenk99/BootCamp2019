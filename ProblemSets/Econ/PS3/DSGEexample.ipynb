{
 "cells": [
  {
   "cell_type": "markdown",
   "metadata": {},
   "source": [
    "## Simple DSGE Model with Labor Choice"
   ]
  },
  {
   "cell_type": "markdown",
   "metadata": {},
   "source": [
    "Household budget constraint\n",
    "$ c_t = w_t\\ell_t+(1+ r_t-\\delta)k_t - k_{t+1} $ (1)\n",
    "\n",
    "Intertemporal Euler equation\n",
    "$ u_c(c_t,\\ell_t) = \\beta E_t\\left\\{ u_c(c_{t+1},\\ell_{t+1})(1 + r_{t+1}-\\delta) \\right\\} $ (2)\n",
    "\n",
    "Labor-leisure Euler equation\n",
    "$ -u_{\\ell}(c_t,\\ell_t) = u_{c}(c_t,\\ell_t)w_t $ (3)\n",
    "\n",
    "Results from Firm's problem\n",
    "$ r_t = f_K(k_t,\\ell_t,z_t) $ (4)\n",
    "$ w_t = f_L(k_t,\\ell_t,z_t) $ (5)\n",
    "\n",
    "Law of motion for technology\n",
    "$ z_t = \\rho_z z_{t-1}+ \\epsilon^z_t ;\\quad \\epsilon^z_t\\sim\\text{i.i.d.}(0,\\sigma_z^2) $ (6)\n",
    "\n",
    "Utility function\n",
    "$ u_t = \\frac{c_t^{1-\\gamma}-1}{1-\\gamma} - \\chi \\frac{\\ell^{1+\\theta}}{1+\\theta} $ (7)\n",
    "\n",
    "Production function\n",
    "$ Y_t = k_t^\\alpha (e^{z_t} \\ell_t )^{1-\\alpha} $ (8)\n",
    "\n",
    "with the following parameter values:\n",
    "\n",
    "$\\alpha = .35, \\beta = .99, \\gamma = 2.5, \\delta = .08, \\chi = 10.0, \\theta = 2.0, \\rho = .9, \\sigma = .01$.\n",
    "\n",
    "The variables are categorized as:\n",
    "\n",
    "$ X_t = \\left\\{k_{t-1}\\right\\} $, defined by equation (2).\n",
    "\n",
    "$ Y_t = \\left\\{\\ell_t,\\right\\} $, defined by equation (3).\n",
    "\n",
    "$ Z_t = \\left\\{z_t\\right\\} $, defined by equation (6).\n",
    "\n",
    "$ D_t = \\left\\{c_t,w_t,r_t,u_t,Y_t\\right\\} $, defined by equations (1), (4), (5), (7) and (8).\n",
    "\n"
   ]
  },
  {
   "cell_type": "markdown",
   "metadata": {},
   "source": [
    "We use the same definitions function and dynamic function as homework 5.  Note that the function `Modeldyn` is the $\\Gamma\\{X_{t+1}, X_t, X_{t-1}, Y_{t+1}, Y_t, Z_{t+1}, Z_t \\}$ from the notes and the lecture."
   ]
  },
  {
   "cell_type": "code",
   "execution_count": 71,
   "metadata": {},
   "outputs": [],
   "source": [
    "def Modeldefs(Xp, X, Y, Z, params):\n",
    "    '''\n",
    "    This function takes vectors of endogenous and exogenous state variables\n",
    "    along with a vector of 'jump' variables and returns explicitly defined\n",
    "    values for consumption, gdp, wages, real interest rates, and transfers\n",
    "    \n",
    "    Inputs are:\n",
    "        Xp: value of capital in next period\n",
    "        X: value of capital this period\n",
    "        Y: value of labor this period\n",
    "        Z: value of productivity this period\n",
    "        params: list of parameter values\n",
    "    \n",
    "    Outputs are:\n",
    "        GDP: GDP\n",
    "        w: wage rate\n",
    "        r: rental rate on capital\n",
    "        T: transfer payments\n",
    "        c: consumption\n",
    "        i: investment\n",
    "        u: utiity\n",
    "    '''\n",
    "    \n",
    "    # unpack input vectors\n",
    "    kp = Xp\n",
    "    k = X\n",
    "    ell = Y\n",
    "    z = Z\n",
    "    \n",
    "    # truncate labor if necessary\n",
    "    if ell > 0.9999:\n",
    "        ell = 0.9999\n",
    "    elif ell < 0.0001:\n",
    "        ell = 0.0001\n",
    "    \n",
    "    # unpack params\n",
    "    [alpha, beta, gamma, delta, xi, a, rho, sigma, tau] = params\n",
    "    \n",
    "    # find definintion values\n",
    "    GDP = k**alpha*(np.exp(z)*ell)**(1-alpha)\n",
    "    w = (1-alpha)*GDP/ell\n",
    "    r = alpha*GDP/k\n",
    "    T = (w*ell + (r - delta)*k)*tau\n",
    "    c = (1-tau)*(w*ell + (r - delta)*k) + k + T - kp\n",
    "    i = GDP - c\n",
    "    \n",
    "    u = (c**(1-gamma)-1)/(1-gamma) + a*((1-ell)**(1-xi) - 1)/(1-xi)\n",
    "\n",
    "    return GDP, w, r, c, i, u, T\n",
    "\n",
    "\n",
    "def Modeldyn(theta0, params):\n",
    "    '''\n",
    "    This function takes vectors of endogenous and exogenous state variables\n",
    "    along with a vector of 'jump' variables and returns values from the\n",
    "    characterizing Euler equations.\n",
    "    \n",
    "    Inputs are:\n",
    "        theta: a vector containng (Xpp, Xp, X, Yp, Y, Zp, Z) where:\n",
    "            Xpp: value of capital in two periods\n",
    "            Xp: value of capital in next period\n",
    "            X: value of capital this period\n",
    "            Yp: value of labor in next period\n",
    "            Y: value of labor this period\n",
    "            Zp: value of productivity in next period\n",
    "            Z: value of productivity this period\n",
    "        params: list of parameter values\n",
    "    \n",
    "    Output are:\n",
    "        Euler: a vector of Euler equations written so that they are zero at the\n",
    "            steady state values of X, Y & Z.  This is a 2x1 numpy array. \n",
    "    '''\n",
    "    \n",
    "    # unpack theat0\n",
    "    (Xpp, Xp, X, Yp, Y, Zp, Z) = theta0\n",
    "    \n",
    "    # unpack params\n",
    "    [alpha, beta, gamma, delta, xi, a, rho, sigma, tau] = params\n",
    "    \n",
    "    # find definitions for now and next period\n",
    "    ell = Y\n",
    "    if ell > 1:\n",
    "        ell = 0.9999\n",
    "    elif ell < 0.0001:\n",
    "        ell = 0.0001\n",
    "    GDP, w, r, c, i, u, T = Modeldefs(Xp, X, Y, Z, params)\n",
    "    GDPp, wp, rp, cp, ip, up, Tp = Modeldefs(Xpp, Xp, Yp, Zp, params)\n",
    "    \n",
    "    # Evaluate Euler equations\n",
    "    E1 = (c**(-gamma)*w*(1-tau)) - a*(1-ell)**(-xi)\n",
    "    E2 = (c**(-gamma)) - (beta * cp**(-gamma))*((rp-delta)*(1-tau) + 1)\n",
    "    \n",
    "    return np.array([E1, E2])"
   ]
  },
  {
   "cell_type": "markdown",
   "metadata": {},
   "source": [
    "We will be using the `LinApp` toolkit which can be downloaded at `https://github.com/kerkphil/DSGE-Utilities`.  We need to import the functions from that toolkit."
   ]
  },
  {
   "cell_type": "code",
   "execution_count": 72,
   "metadata": {},
   "outputs": [],
   "source": [
    "import numpy as np\n",
    "import matplotlib.pyplot as plt\n",
    "\n",
    "# import the modules from LinApp\n",
    "from LinApp_FindSS import LinApp_FindSS\n",
    "from LinApp_Deriv import LinApp_Deriv\n",
    "from LinApp_Solve import LinApp_Solve\n",
    "from LinApp_SSL import LinApp_SSL"
   ]
  },
  {
   "cell_type": "markdown",
   "metadata": {},
   "source": [
    "We next define and setup a model parameters vector, along with other parameters needed by `LinApp_FindSS`."
   ]
  },
  {
   "cell_type": "code",
   "execution_count": 73,
   "metadata": {},
   "outputs": [],
   "source": [
    "# set parameter values\n",
    "alpha = .40\n",
    "beta = .98\n",
    "gamma = 2.5\n",
    "delta = .10\n",
    "xi = 1.5\n",
    "a = .5\n",
    "rho = .9\n",
    "sigma = .01\n",
    "tau = .05\n",
    "\n",
    "# make parameter list to pass to functions\n",
    "params = np.array([alpha, beta, gamma, delta, xi, a, rho, sigma, tau])\n",
    "\n",
    "# set LinApp parameters\n",
    "Zbar = np.array([0.])\n",
    "nx = 1  # number of X variables\n",
    "ny = 1  # number of Y variables\n",
    "nz = 1  # number of Z variables\n",
    "logX = 0  # 1 if log-linearizing, otherwise 0\n",
    "Sylv = 0  # just set this to 0 for now."
   ]
  },
  {
   "cell_type": "markdown",
   "metadata": {},
   "source": [
    "Now we can use `fsolve` to find the steady state values.  `LinApp_FindSS` does this very quickly and easily for us."
   ]
  },
  {
   "cell_type": "code",
   "execution_count": 74,
   "metadata": {},
   "outputs": [
    {
     "name": "stdout",
     "output_type": "stream",
     "text": [
      "check SS:  [-1.47215573e-13 -2.30926389e-13]\n",
      "kbar:    4.225229026773769\n",
      "ellbar:  0.5797914531669756\n",
      "Ybar:    1.2832261088313197\n",
      "wbar:    1.3279527683500643\n",
      "rbar:    0.12148227712154526\n",
      "cbar:    0.8607032061539437\n",
      "ibar:    0.422522902677376\n",
      "ubar:    -0.7108726381180849\n",
      "tbar:    0.04303516030769715\n"
     ]
    }
   ],
   "source": [
    "# take a guess for steady state values of k and ell\n",
    "guessXY = np.array([.5, .5])\n",
    "\n",
    "# find the steady state values using LinApp_FindSS\n",
    "XYbar = LinApp_FindSS(Modeldyn, params, guessXY, Zbar, nx, ny)\n",
    "(kbar, ellbar) = XYbar\n",
    "\n",
    "# set up steady state input vector\n",
    "theta0 = np.array([kbar, kbar, kbar, ellbar, ellbar, 0., 0.])\n",
    "\n",
    "# check SS solution\n",
    "check = Modeldyn(theta0, params)\n",
    "print ('check SS: ', check)\n",
    "if np.max(np.abs(check)) > 1.E-6:\n",
    "    print ('Have NOT found steady state')\n",
    "    \n",
    "# find the steady state values for the definitions\n",
    "Ybar, wbar, rbar, cbar, ibar, ubar, tbar = \\\n",
    "    Modeldefs(kbar, kbar, ellbar, 0., params)\n",
    "\n",
    "# display all steady state values\n",
    "print ('kbar:   ', kbar)\n",
    "print ('ellbar: ', ellbar)\n",
    "print ('Ybar:   ', Ybar)\n",
    "print ('wbar:   ', wbar)\n",
    "print ('rbar:   ', rbar)\n",
    "print ('cbar:   ', cbar)\n",
    "print ('ibar:   ', ibar)\n",
    "print ('ubar:   ', ubar)\n",
    "print ('tbar:   ', tbar)"
   ]
  },
  {
   "cell_type": "markdown",
   "metadata": {},
   "source": [
    "We now use the `LinApp` toolkit to get the linear coefficients."
   ]
  },
  {
   "cell_type": "code",
   "execution_count": 78,
   "metadata": {},
   "outputs": [
    {
     "name": "stdout",
     "output_type": "stream",
     "text": [
      "F:  [[-4.2262291]]\n",
      "G:  [[8.56661569]]\n",
      "H:  [[-4.31701813]]\n",
      "L:  [[3.15518743]]\n",
      "M:  [[-3.25392451]]\n",
      "N:  0.9\n",
      "P:  [[0.9152937]]\n",
      "Q:  [[0.54504228]]\n"
     ]
    }
   ],
   "source": [
    "# find the derivatives matrices\n",
    "[AA, BB, CC, DD, FF, GG, HH, JJ, KK, LL, MM] = \\\n",
    "   LinApp_Deriv(Modeldyn, params, theta0, nx, ny, nz, logX)\n",
    "\n",
    "# set value for NN    \n",
    "NN = rho\n",
    "    \n",
    "# find the policy and jump function coefficients\n",
    "PP, QQ, RR, SS = LinApp_Solve(AA, BB, CC, DD, FF, GG, HH, JJ, KK, LL, MM, NN, Zbar, Sylv)\n",
    "print(\"F: \", FF)\n",
    "print(\"G: \", GG)\n",
    "print(\"H: \", HH)\n",
    "print(\"L: \", LL)\n",
    "print(\"M: \", MM)\n",
    "print(\"N: \", NN)\n",
    "print('P: ', PP)\n",
    "print('Q: ', QQ)\n"
   ]
  },
  {
   "cell_type": "markdown",
   "metadata": {},
   "source": [
    "#### Now similate this for 50 periods with a shock in period 10 and plot the IRFs."
   ]
  },
  {
   "cell_type": "code",
   "execution_count": 81,
   "metadata": {},
   "outputs": [
    {
     "data": {
      "image/png": "[encoded data removed]",
      "text/plain": [
       "<Figure size 432x288 with 9 Axes>"
      ]
     },
     "metadata": {},
     "output_type": "display_data"
    }
   ],
   "source": [
    "# set number of observations\n",
    "nobs = 50 \n",
    "\n",
    "# create a history of z's using equation (7)\n",
    "zhist = np.zeros(nobs+1)\n",
    "#epshist = sigma*np.random.normal(0., 1., nobs+1)\n",
    "epshist = np.zeros(nobs+1)\n",
    "epshist[9] = sigma\n",
    "zhist[0] = epshist[0]\n",
    "for t in range(1,nobs+1):\n",
    "    zhist[t] = rho*zhist[t-1] + epshist[t]\n",
    "    \n",
    "# LinApp_SSL requires that Zhist be a 2-dimensional array\n",
    "Zhist = np.reshape(zhist, (nobs+1, 1))\n",
    "\n",
    "# Linapp_SSL also requires that starting values be arrays\n",
    "k0 = np.array([[kbar]])\n",
    "ell0 = np.array([[ellbar]])\n",
    "\n",
    "# create a history of k's and ell's using LinApp_SSL\n",
    "khist, ellhist =  LinApp_SSL(k0, Zhist ,XYbar, logX, PP, QQ, RR, SS)\n",
    "\n",
    "# create histories of remaining variables\n",
    "Yhist = np.zeros(nobs)\n",
    "whist = np.zeros(nobs)\n",
    "rhist = np.zeros(nobs)\n",
    "chist = np.zeros(nobs)\n",
    "ihist = np.zeros(nobs)\n",
    "uhist = np.zeros(nobs)\n",
    "thist = np.zeros(nobs)\n",
    "for t in range(0,nobs):\n",
    "    Yhist[t], whist[t], rhist[t], chist[t], ihist[t], uhist[t], thist[t] = \\\n",
    "        Modeldefs(khist[t+1], khist[t], ellhist[t], zhist[t], params)\n",
    "        \n",
    "# delete last observation\n",
    "khist = khist[0:nobs]\n",
    "zhist = zhist[0:nobs]\n",
    "ellhist = ellhist[0:nobs]\n",
    "\n",
    "# plot time series\n",
    "time = range(0, nobs)\n",
    "\n",
    "fig = plt.figure()\n",
    "plt.subplot(3,3,1)\n",
    "plt.plot(time, khist, label='k')\n",
    "plt.title('k')\n",
    "plt.subplot(3,3,2)\n",
    "plt.plot(time, ellhist, label='ell')\n",
    "plt.title('ell')\n",
    "plt.subplot(3,3,3)\n",
    "plt.plot(time, zhist, label='z')\n",
    "plt.title('z')\n",
    "plt.subplot(3,3,4)\n",
    "plt.plot(time, Yhist, label='Y')\n",
    "plt.title('Y')\n",
    "plt.subplot(3,3,5)\n",
    "plt.plot(time, whist, label='w')\n",
    "plt.title('w')\n",
    "plt.subplot(3,3,6)\n",
    "plt.plot(time, rhist, label='r')\n",
    "plt.title('r')\n",
    "plt.subplot(3,3,7)\n",
    "plt.plot(time, chist, label='c')\n",
    "plt.title('c')\n",
    "plt.subplot(3,3,8)\n",
    "plt.plot(time, ihist, label='i')\n",
    "plt.title('i')\n",
    "plt.subplot(3,3,9)\n",
    "plt.plot(time, uhist, label='u')\n",
    "plt.title('u')\n",
    "plt.show()"
   ]
  },
  {
   "cell_type": "code",
   "execution_count": null,
   "metadata": {},
   "outputs": [],
   "source": []
  }
 ],
 "metadata": {
  "kernelspec": {
   "display_name": "Python 3",
   "language": "python",
   "name": "python3"
  },
  "language_info": {
   "codemirror_mode": {
    "name": "ipython",
    "version": 3
   },
   "file_extension": ".py",
   "mimetype": "text/x-python",
   "name": "python",
   "nbconvert_exporter": "python",
   "pygments_lexer": "ipython3",
   "version": "3.6.8"
  }
 },
 "nbformat": 4,
 "nbformat_minor": 2
}
