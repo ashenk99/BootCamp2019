{
 "cells": [
  {
   "cell_type": "code",
   "execution_count": 153,
   "metadata": {},
   "outputs": [],
   "source": [
    "import numpy as np"
   ]
  },
  {
   "cell_type": "markdown",
   "metadata": {},
   "source": [
    "## Exercise 2.1"
   ]
  },
  {
   "cell_type": "code",
   "execution_count": 219,
   "metadata": {},
   "outputs": [],
   "source": [
    "##Set some parameters for our model\n",
    "beta = .442\n",
    "delta = .6415\n",
    "sigma = 3\n",
    "A = 1\n",
    "alpha = .35\n",
    "per_len = 20\n",
    "nvec = [1, 1, 0.2]\n",
    "f_params = nvec, A, alpha, delta"
   ]
  },
  {
   "cell_type": "code",
   "execution_count": 220,
   "metadata": {},
   "outputs": [],
   "source": [
    "def get_L(n1, n2, n3):\n",
    "    L = n1 + n2 + n3\n",
    "    return L\n",
    "\n",
    "def get_k(b2, b3):\n",
    "    K = b2 + b3\n",
    "    return K\n",
    "\n",
    "def get_r(K, L, params):\n",
    "    alpha, A, delta = params\n",
    "    r = alpha * A * (L/K)**(1-alpha) - delta\n",
    "    return r\n",
    "\n",
    "def get_w(K, L, params):\n",
    "    alpha, A, delta = params\n",
    "    w = (1-alpha)*A*(K/L)**alpha\n",
    "    return w\n",
    "def get_c(i, y):\n",
    "    return y - i\n",
    "def get_Y(K, L, params):\n",
    "    alpha, A = params\n",
    "    Y = A * K**alpha * L**(1-alpha)\n",
    "    return Y\n",
    "\n",
    "def utility(c, params):\n",
    "    sigma = params\n",
    "    u = (c**(1- sigma) -1)/(1- sigma)\n",
    "    return u\n",
    "def uprime(c, params):\n",
    "    sigma = params\n",
    "    uprime = c**(-sigma)\n",
    "    return uprime"
   ]
  },
  {
   "cell_type": "code",
   "execution_count": 221,
   "metadata": {},
   "outputs": [],
   "source": [
    "def feasible(f_params, bvec_guess):\n",
    "    nvec, A, alpha, delta = f_params\n",
    "    k_cnstr = False\n",
    "    K = get_k(bvec_guess[0], bvec_guess[1])\n",
    "    if K <= 0:\n",
    "        k_cnstr = True\n",
    "    L = get_L(nvec[0], nvec[1], nvec[2])\n",
    "    w = get_w(K, L, (alpha, A, delta))\n",
    "    r = get_r(K, L, (alpha, A, delta))\n",
    "    c1 = w*nvec[0] - bvec_guess[0]\n",
    "    c2 = w*nvec[1] + (1+r)*bvec_guess[0] - bvec_guess[1]\n",
    "    c3 = w*nvec[2] + (1+r)*bvec_guess[1]\n",
    "    print(c1, c2, c3)\n",
    "    c_cnstr = [False, False, False]\n",
    "    b_cnstr = [False, False]\n",
    "    if c1 <= 0:\n",
    "        c_cnstr[0] = True\n",
    "    if c2 <= 0: \n",
    "        c_cnstr[1] = True\n",
    "    if c3 <= 0:\n",
    "        c_cnstr[2] = True\n",
    "    \n",
    "    if c_cnstr[0]:\n",
    "        b_cnstr[0] = True\n",
    "    if c_cnstr[1]:\n",
    "        b_cnstr[0] = True\n",
    "        b_cnstr[1] = True\n",
    "    if c_cnstr[2]:\n",
    "        b_cnstr[1] = True\n",
    "    return b_cnstr, c_cnstr, k_cnstr\n",
    "    "
   ]
  },
  {
   "cell_type": "code",
   "execution_count": 222,
   "metadata": {},
   "outputs": [
    {
     "name": "stdout",
     "output_type": "stream",
     "text": [
      "-0.35 0.15850000000000009 0.9802\n",
      "[True, False]\n",
      "[True, False, False]\n",
      "False\n",
      "In this case, it looks like the violated constraint is that consumption in period 1 is zero or negative.\n"
     ]
    }
   ],
   "source": [
    "bvec_guess = np.array([1.0, 1.2])\n",
    "b_cnstr, c_cnstr, k_cnstr = feasible(f_params, bvec_guess)\n",
    "print(b_cnstr)\n",
    "print(c_cnstr)\n",
    "print(k_cnstr)\n",
    "print(\"In this case, it looks like the violated constraint is that \\\n",
    "consumption in period 1 is zero or negative.\")"
   ]
  },
  {
   "cell_type": "code",
   "execution_count": 223,
   "metadata": {},
   "outputs": [
    {
     "name": "stdout",
     "output_type": "stream",
     "text": [
      "0.12317391275691647 0.4263523552437363 0.03259847517660297\n",
      "[False, False]\n",
      "[False, False, False]\n",
      "False\n",
      "None of the constraints are violated\n"
     ]
    }
   ],
   "source": [
    "bvec_guess = np.array([.06, -.001])\n",
    "b_cnstr, c_cnstr, k_cnstr = feasible(f_params, bvec_guess)\n",
    "print(b_cnstr)\n",
    "print(c_cnstr)\n",
    "print(k_cnstr)\n",
    "print(\"None of the constraints are violated\")"
   ]
  },
  {
   "cell_type": "code",
   "execution_count": 224,
   "metadata": {},
   "outputs": [
    {
     "name": "stdout",
     "output_type": "stream",
     "text": [
      "0.18081863036662546 0.3829996652760883 0.2583447609827879\n",
      "[False, False]\n",
      "[False, False, False]\n",
      "False\n",
      "None of the constraints are violated\n"
     ]
    }
   ],
   "source": [
    "bvec_guess = np.array([.1, .1])\n",
    "b_cnstr, c_cnstr, k_cnstr = feasible(f_params, bvec_guess)\n",
    "print(b_cnstr)\n",
    "print(c_cnstr)\n",
    "print(k_cnstr)\n",
    "print(\"None of the constraints are violated\")"
   ]
  },
  {
   "cell_type": "markdown",
   "metadata": {},
   "source": [
    "## Exercise 2.2"
   ]
  },
  {
   "cell_type": "code",
   "execution_count": 225,
   "metadata": {},
   "outputs": [],
   "source": [
    "import time\n",
    "from scipy.optimize import fsolve\n",
    "import matplotlib.pyplot as plt\n",
    "def eulerrs(bvec, *params):\n",
    "    eulerr = np.zeros(2)\n",
    "    beta, sigma, nvec, A, alpha, delta, SS_tol = params\n",
    "    n1 = nvec[0]\n",
    "    n2 = nvec[1]\n",
    "    n3 = nvec[2]\n",
    "    b2 = bvec[0]\n",
    "    b3 = bvec[1]\n",
    "    K = get_k(b2, b3)\n",
    "    L = get_L(n1, n2, n3)\n",
    "    w = get_w(K, L, (alpha, A, delta))\n",
    "    r = get_r(K, L, (alpha, A, delta))\n",
    "    c1 = w*n1 - b2\n",
    "    c2 = w*n2 + (1+r)*b2 - b3\n",
    "    c3 = w*n3 + (1+r)*b3\n",
    "    print(c1,c2,c3)\n",
    "    eulerr[0] = uprime(c1, sigma) - beta*(1+r)*uprime(c2, sigma)\n",
    "    eulerr[1] = uprime(c2, sigma) - beta*(1+r)*uprime(c3, sigma)\n",
    "    return eulerr\n",
    "\n",
    "def get_SS(params, bvec_guess, SS_graphs):\n",
    "    start_time = time.clock()\n",
    "    beta, sigma, nvec, A, alpha, delta, SS_tol = params\n",
    "    bsol = fsolve(eulerrs, bvec_guess, args=(params))\n",
    "    print(bsol)\n",
    "    b_ss = bsol\n",
    "    n1 = nvec[0]\n",
    "    n2 = nvec[1]\n",
    "    n3 = nvec[2]\n",
    "    L = n1 + n2 + n3\n",
    "    K_ss = get_k(b_ss[0], b_ss[1])\n",
    "    w_ss = get_w(K_ss, L, (alpha, A, delta))\n",
    "    r_ss = get_r(K_ss, L, (alpha, A, delta))\n",
    "    Y_ss = get_Y(K_ss, L, (alpha, A))\n",
    "    c1 = w_ss*n1 - b_ss[0]\n",
    "    c2 = w_ss*n2 + (1+r_ss)*b_ss[0]- b_ss[1]\n",
    "    c3 = w_ss*n3 + (1+r_ss)*b_ss[1]\n",
    "    C_ss = c1 + c2 + c3\n",
    "    c_ss = np.array([c1, c2, c3])\n",
    "    EulErr1 = uprime(c1, sigma) - beta*(1+r_ss)*uprime(c2, sigma)\n",
    "    EulErr2 = uprime(c2, sigma) - beta*(1+r_ss)*uprime(c3, sigma)\n",
    "        \n",
    "    \n",
    "    EulErr_ss = np.array([EulErr1, EulErr2])\n",
    "    \n",
    "    \n",
    "    RCerr_ss = Y_ss - C_ss - delta*K_ss\n",
    "    \n",
    "    ss_time = time.clock() - start_time\n",
    "    ss_output = { 'b_ss': b_ss, 'c_ss': c_ss, 'w_ss': w_ss, 'r_ss': r_ss,\n",
    "                'K_ss': K_ss, 'Y_ss': Y_ss, 'C_ss': C_ss,\n",
    "                'EulErr_ss': EulErr_ss, 'RCerr_ss': RCerr_ss,\n",
    "                'ss_time': ss_time}\n",
    "    \n",
    "    if SS_graphs == True:\n",
    "        fig = plt.figure()\n",
    "        ax = fig.add_subplot(1,1,1)\n",
    "        ax.bar(np.array([1,2,3]), c_ss, align ='center', label=\"consumption\")\n",
    "        ax.bar(np.array([2,3]), b_ss, align = 'center', label=\"saving\")\n",
    "        ax.legend()\n",
    "        ax.set_ylim((0,.5))\n",
    "        plt.show()\n",
    "    return ss_output"
   ]
  },
  {
   "cell_type": "code",
   "execution_count": 226,
   "metadata": {},
   "outputs": [
    {
     "name": "stdout",
     "output_type": "stream",
     "text": [
      "0.18081863036662546 0.3829996652760883 0.2583447609827879\n",
      "0.18081863036662546 0.3829996652760883 0.2583447609827879\n",
      "0.18081863036662546 0.3829996652760883 0.2583447609827879\n",
      "0.18081862960880102 0.3829996682155914 0.25834476032372544\n",
      "0.18081863109891713 0.3829996637127431 0.2583447633364576\n",
      "0.21652477188469216 0.15273470042529602 0.3250150114687855\n",
      "0.18202902572080976 0.33328872843336155 0.23110940774620212\n",
      "0.19765829370700477 0.19896382239824223 0.2760374457714571\n",
      "0.13702808011218134 0.03891279748015745 0.24649446960427254\n",
      "0.1846792409027061 0.2747658460241576 0.23393833972383926\n",
      "0.19765829364815307 0.1989638233964251 0.2760374454175096\n",
      "0.19765829461081458 0.1989638217647107 0.27603744783022555\n",
      "0.19010280679871452 0.21169735152794547 0.2568563219845841\n",
      "0.1769813727566012 0.21095796286768023 0.2288556142972706\n",
      "0.18389297481642447 0.2098186834995377 0.2439815513295565\n",
      "0.18202436436703792 0.20948018299289545 0.24008514538908543\n",
      "0.18241983299553388 0.20962487379749525 0.24088734748760907\n",
      "0.18241332984586706 0.2096142411367639 0.2408765622579139\n",
      "0.18241192586887314 0.2096147748702728 0.2408734064965517\n",
      "0.18241212944041876 0.20961467942479003 0.24087386935150887\n",
      "0.1824121275583131 0.2096146803090817 0.24087386507167502\n",
      "0.18241212755849867 0.20961468030898922 0.24087386507209851\n",
      "[0.01931253 0.0584111 ]\n"
     ]
    },
    {
     "data": {
      "image/png": "[encoded data removed]",
      "text/plain": [
       "<Figure size 432x288 with 1 Axes>"
      ]
     },
     "metadata": {},
     "output_type": "display_data"
    },
    {
     "data": {
      "text/plain": [
       "{'b_ss': array([0.01931253, 0.0584111 ]),\n",
       " 'c_ss': array([0.18241213, 0.20961468, 0.24087387]),\n",
       " 'w_ss': 0.20172465739052575,\n",
       " 'r_ss': 2.433062339127069,\n",
       " 'K_ss': 0.07772362575316386,\n",
       " 'Y_ss': 0.6827603788602411,\n",
       " 'C_ss': 0.6329006729395864,\n",
       " 'EulErr_ss': array([-1.39266376e-12,  2.62900812e-12]),\n",
       " 'RCerr_ss': 8.326672684688674e-17,\n",
       " 'ss_time': 0.004466000000000747}"
      ]
     },
     "execution_count": 226,
     "metadata": {},
     "output_type": "execute_result"
    }
   ],
   "source": [
    "SS_tol = 1.E-8\n",
    "beta = .442\n",
    "params = (beta, sigma, nvec, A, alpha, delta, SS_tol)\n",
    "get_SS(params, bvec_guess, True )"
   ]
  },
  {
   "cell_type": "code",
   "execution_count": 162,
   "metadata": {},
   "outputs": [
    {
     "name": "stdout",
     "output_type": "stream",
     "text": [
      "[0.02817692 0.07686545]\n"
     ]
    },
    {
     "data": {
      "image/png": "[encoded data removed]",
      "text/plain": [
       "<Figure size 432x288 with 1 Axes>"
      ]
     },
     "metadata": {},
     "output_type": "display_data"
    },
    {
     "data": {
      "text/plain": [
       "{'b_ss': array([0.02817692, 0.07686545]),\n",
       " 'c_ss': array([0.19597528, 0.22861594, 0.26669307]),\n",
       " 'w_ss': 0.22415219593446706,\n",
       " 'r_ss': 1.8863765057189819,\n",
       " 'K_ss': 0.1050423702259807,\n",
       " 'Y_ss': 0.7586689708551193,\n",
       " 'C_ss': 0.6912842903551526,\n",
       " 'EulErr_ss': array([6.87805368e-12, 2.52953214e-12]),\n",
       " 'RCerr_ss': 9.71445146547012e-17,\n",
       " 'ss_time': 0.0005989999999975737}"
      ]
     },
     "execution_count": 162,
     "metadata": {},
     "output_type": "execute_result"
    }
   ],
   "source": [
    "##we see what happens when we change beta\n",
    "beta = .55\n",
    "params = (beta, sigma, nvec, A, alpha, delta, SS_tol)\n",
    "get_SS(params, bvec_guess, True)"
   ]
  },
  {
   "cell_type": "markdown",
   "metadata": {},
   "source": [
    "We observe that households save more as their beta increases, which is intuitive as they have a higher value on future income."
   ]
  },
  {
   "cell_type": "markdown",
   "metadata": {},
   "source": [
    "## Exercise 2.3"
   ]
  },
  {
   "cell_type": "code",
   "execution_count": 163,
   "metadata": {},
   "outputs": [],
   "source": [
    "def intertemp(b32, *params):\n",
    "    w1, r1, b21, beta, r2, w2, sigma = params\n",
    "    \n",
    "    x = uprime(w1 + (1+r1)*b21 - b32, sigma) - beta*(1+r2)*uprime((1+r2)*b32 + .2*w2, sigma)\n",
    "    return x\n",
    "def eulers(b, *params):\n",
    "    wt, wtp, wtp2, rtp, rtp2, sigma = params\n",
    "    b2t = b[0]\n",
    "    b3tp = b[1]\n",
    "    ret = np.zeros(2)\n",
    "    ret[0] = uprime(wt- b2t, sigma) - beta*(1+rtp)*uprime(wtp+ (1+rtp)*b2t - b3tp, sigma)\n",
    "    ret[1] = uprime(wtp + (1+rtp)*b2t - b3tp, sigma) - beta*(1+rtp2)*uprime((1+rtp2)*b3tp + .2*wtp2, sigma)\n",
    "    return ret\n",
    "\n"
   ]
  },
  {
   "cell_type": "code",
   "execution_count": 164,
   "metadata": {},
   "outputs": [
    {
     "name": "stdout",
     "output_type": "stream",
     "text": [
      "[0.01931253 0.0584111 ]\n",
      "Iteration:1 \n",
      "L2 Norm:1.7427528570223185e-05\n",
      "Iteration:2 \n",
      "L2 Norm:3.5881806503211743e-06\n",
      "Iteration:3 \n",
      "L2 Norm:8.598742156901477e-07\n",
      "Iteration:4 \n",
      "L2 Norm:2.2867102612730345e-07\n",
      "Iteration:5 \n",
      "L2 Norm:6.419572846592407e-08\n",
      "Iteration:6 \n",
      "L2 Norm:1.8486207102531112e-08\n",
      "Iteration:7 \n",
      "L2 Norm:5.397711016179181e-09\n",
      "Iteration:8 \n",
      "L2 Norm:1.5879947483230593e-09\n",
      "Iteration:9 \n",
      "L2 Norm:4.69165053796278e-10\n",
      "Converged in 9 Iterations.\n"
     ]
    }
   ],
   "source": [
    "T = 25\n",
    "xi = .8\n",
    "beta = .442\n",
    "epsilon = 1.E-9\n",
    "params = (beta, sigma, nvec, A, alpha, delta, SS_tol)\n",
    "steady_state = get_SS(params, bvec_guess, False)\n",
    "b_steady = steady_state['b_ss']\n",
    "k_steady = steady_state['K_ss']\n",
    "w_steady = steady_state['w_ss']\n",
    "r_steady = steady_state['r_ss']\n",
    "b_start = np.array([.8*b_steady[0], 1.1*b_steady[1]])\n",
    "K_1 = get_k(b_start[0], b_start[1])\n",
    "\n",
    "K_time_grid = np.linspace(K_1, k_steady, T)\n",
    "np.append(K_time_grid, np.array([k_steady, k_steady, k_steady]))\n",
    "dist = 100\n",
    "L = 1+ 1+.2\n",
    "#perform Time path iteration\n",
    "iters = 0\n",
    "while dist > epsilon:\n",
    "    w_grid = get_w(K_time_grid, L, (alpha, A, delta))\n",
    "    w_grid = np.append(w_grid, np.array([w_steady,w_steady,w_steady]))\n",
    "    r_grid = get_r(K_time_grid, L, (alpha, A, delta))\n",
    "    r_grid = np.append(r_grid, np.array([r_steady,r_steady,r_steady]))\n",
    "    b_2_grid = np.zeros(T)\n",
    "    b_3_grid = np.zeros(T+1)\n",
    "    b_2_grid[0] = b_start[0]\n",
    "    b_3_grid[0] = b_start[1]\n",
    "    param_inter = (w_grid[0], r_grid[0], b_2_grid[0], beta, r_grid[1], w_grid[1], sigma)\n",
    "    b_3_grid[1] = fsolve(intertemp, .1, args=param_inter)\n",
    "    iters += 1\n",
    "    K_time_new = np.zeros(T)\n",
    "    K_time_new[0] = K_time_grid[0]\n",
    "    for i in range(1, T):\n",
    "        params_euler = (w_grid[i-1], w_grid[i], w_grid[i+1], r_grid[i+1], r_grid[i+2], sigma)\n",
    "        bsols = fsolve(eulers, [.1,.1], args=params_euler)\n",
    "        b_2_grid[i] = bsols[0]\n",
    "        b_3_grid[i+1] = bsols[1]\n",
    "        K_time_new[i] = b_2_grid[i] + b_3_grid[i]\n",
    "    K_time_old = K_time_grid\n",
    "    K_time_grid = xi*(K_time_new) + (1-xi)*K_time_old\n",
    "    dist = np.sum((K_time_grid - K_time_old)**2)\n",
    "    print(\"Iteration:{} \\nL2 Norm:{}\".format(iters, dist))\n",
    "\n",
    "print(\"Converged in {} Iterations.\".format(iters))"
   ]
  },
  {
   "cell_type": "code",
   "execution_count": 165,
   "metadata": {},
   "outputs": [
    {
     "data": {
      "image/png": "[encoded data removed]",
      "text/plain": [
       "<Figure size 432x288 with 1 Axes>"
      ]
     },
     "metadata": {},
     "output_type": "display_data"
    },
    {
     "data": {
      "image/png": "[encoded data removed]",
      "text/plain": [
       "<Figure size 432x288 with 1 Axes>"
      ]
     },
     "metadata": {},
     "output_type": "display_data"
    },
    {
     "data": {
      "text/plain": [
       "[<matplotlib.lines.Line2D at 0x1019718940>]"
      ]
     },
     "execution_count": 165,
     "metadata": {},
     "output_type": "execute_result"
    },
    {
     "data": {
      "image/png": "[encoded data removed]",
      "text/plain": [
       "<Figure size 432x288 with 1 Axes>"
      ]
     },
     "metadata": {},
     "output_type": "display_data"
    }
   ],
   "source": [
    "plt.plot(np.linspace(1,T,T), K_time_grid)\n",
    "plt.show()\n",
    "plt.close()\n",
    "plt.plot(np.linspace(1,T,T), w_grid[0:T])\n",
    "plt.show()\n",
    "plt.close()\n",
    "plt.plot(np.linspace(1,T,T), r_grid[0:T])\n"
   ]
  },
  {
   "cell_type": "markdown",
   "metadata": {},
   "source": [
    "## Exercise 3.2"
   ]
  },
  {
   "cell_type": "code",
   "execution_count": 189,
   "metadata": {},
   "outputs": [],
   "source": [
    "beta = .96\n",
    "delta = .05\n",
    "sigma = 3\n",
    "A = 1\n",
    "alpha = .35\n",
    "def get_k_var(b):\n",
    "    K = np.sum(b)\n",
    "    return K\n",
    "\n",
    "def euler_errs_var(bvec, *params):\n",
    "    beta, sigma, nvec, A, alpha, delta, SS_tol = params\n",
    "    K = get_k_var(bvec)\n",
    "    L = np.sum(nvec)\n",
    "    w = get_w(K, L, (alpha, A, delta))\n",
    "    r = get_r(K, L, (alpha, A, delta))\n",
    "    cvec = np.zeros(len(nvec))\n",
    "    eulerrs = np.zeros(len(bvec))\n",
    "    for i in range(len(cvec)):\n",
    "        if i == 0:\n",
    "            cvec[i] = w*nvec[i] - bvec[i]\n",
    "        elif i == len(cvec) - 1:\n",
    "            cvec[i] = w*nvec[i] + (1+r)*bvec[i-1]\n",
    "        else:\n",
    "            cvec[i] = w*nvec[i] + (1+r)*bvec[i-1] - bvec[i]\n",
    "    for j in range(len(eulerrs)):\n",
    "        eulerrs[j] = uprime(cvec[j], sigma) - beta*(1+r)*uprime(cvec[j+1], sigma)\n",
    "\n",
    "    \n",
    "#     c1 = w*n1 - b2\n",
    "#     c2 = w*n2 + (1+r)*b2 - b3\n",
    "#     c3 = w*n3 + (1+r)*b3\n",
    "#     eulerr[0] = uprime(c1, sigma) - beta*(1+r)*uprime(c2, sigma)\n",
    "#     eulerr[1] = uprime(c2, sigma) - beta*(1+r)*uprime(c3, sigma)\n",
    "    return eulerrs\n",
    "def get_SS_var(params, bvec_guess, SS_graphs):\n",
    "    start_time = time.clock()\n",
    "    beta, sigma, nvec, A, alpha, delta, SS_tol = params\n",
    "    bsol = fsolve(euler_errs_var, bvec_guess, args=(params))\n",
    "    L = np.sum(nvec)\n",
    "    b_ss = bsol\n",
    "    K_ss = get_k_var(b_ss)\n",
    "    w_ss = get_w(K_ss, L, (alpha, A, delta))\n",
    "    r_ss = get_r(K_ss, L, (alpha, A, delta))\n",
    "    Y_ss = get_Y(K_ss, L, (alpha, A))\n",
    "    cvec = np.zeros(len(nvec))\n",
    "    for i in range(len(cvec)):\n",
    "        if i == 0:\n",
    "            cvec[i] = w_ss*nvec[i] - b_ss[i]\n",
    "        elif i == len(cvec) - 1:\n",
    "            cvec[i] = w_ss*nvec[i] + (1+r_ss)*b_ss[i-1]\n",
    "        else:\n",
    "            cvec[i] = w_ss*nvec[i] + (1+r_ss)*b_ss[i-1] - b_ss[i]\n",
    "    C_ss = np.sum(cvec)\n",
    "    c_ss = cvec\n",
    "    eulerrs = np.zeros(len(b_ss))\n",
    "    for j in range(len(eulerrs)):\n",
    "        eulerrs[j] = uprime(cvec[j], sigma) - beta*(1+r_ss)*uprime(cvec[j+1], sigma)    \n",
    "    EulErr_ss = eulerrs\n",
    "#     EulErr_ss = np.array([EulErr1, EulErr2])\n",
    "    RCerr_ss = Y_ss - C_ss - delta*K_ss\n",
    "    \n",
    "    ss_time = time.clock() - start_time\n",
    "    ss_output = { 'b_ss': b_ss, 'c_ss': c_ss, 'w_ss': w_ss, 'r_ss': r_ss,\n",
    "                'K_ss': K_ss, 'Y_ss': Y_ss, 'C_ss': C_ss,\n",
    "                'EulErr_ss': EulErr_ss, 'RCerr_ss': RCerr_ss,\n",
    "                'ss_time': ss_time}\n",
    "    \n",
    "\n",
    "    return ss_output\n",
    "    \n",
    "    \n",
    "    \n",
    "    "
   ]
  },
  {
   "cell_type": "code",
   "execution_count": 213,
   "metadata": {},
   "outputs": [
    {
     "name": "stdout",
     "output_type": "stream",
     "text": [
      "Time Taken: 0.08017999999999859 Seconds\n",
      "{'b_ss': array([0.14956477, 0.30028039, 0.45213627, 0.60512018, 0.75921804,\n",
      "       0.91441388, 1.07068959, 1.22802484, 1.38639684, 1.54578024,\n",
      "       1.70614682, 1.86746539, 2.02970148, 2.19281714, 2.35677066,\n",
      "       2.5215163 , 2.68700397, 2.85317892, 3.0199814 , 3.18734626,\n",
      "       3.35520259, 3.52347325, 3.69207445, 3.86091522, 4.02989691,\n",
      "       4.1989126 , 4.36784653, 4.53657339, 4.70495769, 4.87285293,\n",
      "       5.04010088, 5.20653066, 5.37195783, 5.53618341, 5.69899279,\n",
      "       5.86015463, 6.01941959, 6.17651906, 6.33116373, 6.48304208,\n",
      "       6.63181877, 6.77713291, 6.91859619, 7.05579089, 7.18826774,\n",
      "       7.31554363, 7.43709913, 7.55237589, 7.66077378, 7.76164785,\n",
      "       7.85430512, 7.93800106, 8.01193583, 8.07525032, 8.12702181,\n",
      "       8.16625939, 8.19189897, 8.20279802, 8.19772986, 8.17537756,\n",
      "       8.13432742, 8.07306194, 7.98995231, 7.88325036, 7.75107986,\n",
      "       7.59142733, 7.40213203, 7.18087535, 6.92516934, 6.63234447,\n",
      "       6.2995365 , 5.92367236, 5.50145504, 5.02934742, 4.50355485,\n",
      "       3.92000654, 3.27433555, 2.56185741, 1.77754711]), 'c_ss': array([0.99545333, 1.00511484, 1.01487013, 1.02472009, 1.03466566,\n",
      "       1.04470775, 1.05484731, 1.06508528, 1.07542262, 1.08586028,\n",
      "       1.09639925, 1.10704051, 1.11778505, 1.12863387, 1.13958798,\n",
      "       1.15064842, 1.1618162 , 1.17309237, 1.18447798, 1.1959741 ,\n",
      "       1.2075818 , 1.21930215, 1.23113626, 1.24308523, 1.25515017,\n",
      "       1.26733221, 1.27963248, 1.29205213, 1.30459233, 1.31725423,\n",
      "       1.33003903, 1.34294791, 1.35598208, 1.36914276, 1.38243117,\n",
      "       1.39584855, 1.40939615, 1.42307525, 1.4368871 , 1.45083301,\n",
      "       1.46491428, 1.47913221, 1.49348814, 1.5079834 , 1.52261934,\n",
      "       1.53739734, 1.55231877, 1.56738502, 1.58259749, 1.59795762,\n",
      "       1.61346682, 1.62912655, 1.64493827, 1.66090345, 1.67702359,\n",
      "       1.69330017, 1.70973474, 1.72632881, 1.74308394, 1.76000169,\n",
      "       1.77708363, 1.79433137, 1.8117465 , 1.82933067, 1.84708549,\n",
      "       1.86501264, 1.88311379, 1.90139061, 1.91984483, 1.93847815,\n",
      "       1.95729233, 1.97628911, 1.99547026, 2.01483758, 2.03439287,\n",
      "       2.05413796, 2.07407468, 2.09420491, 2.11453051, 2.13505338]), 'w_ss': 1.1450181033367752, 'r_ss': 0.07229212157955996, 'K_ss': 399.2948814757745, 'Y_ss': 139.516051975804, 'C_ss': 119.55130790201531, 'EulErr_ss': array([ 1.85886861e-11,  5.67823566e-12, -3.47566420e-12,  5.08981746e-12,\n",
      "       -2.52242671e-13, -8.30446822e-14, -2.33146835e-15,  1.90958360e-14,\n",
      "        2.23154828e-14,  2.18713936e-14,  1.93178806e-14,  1.69864123e-14,\n",
      "        1.46549439e-14,  1.34336986e-14,  1.48769885e-14,  1.21014310e-14,\n",
      "        1.76525461e-14,  1.79856130e-14,  2.50910404e-14,  3.70814490e-14,\n",
      "        5.14033260e-14,  7.52731211e-14,  1.21791466e-13,  1.97397654e-13,\n",
      "        2.98872038e-13,  3.89410726e-13,  3.67428310e-13,  1.54154467e-13,\n",
      "       -1.52766688e-13, -2.72948331e-13, -2.99760217e-15,  4.96658270e-13,\n",
      "        7.12041537e-13,  2.41529019e-13, -5.49171819e-13, -7.79876164e-13,\n",
      "       -7.27473637e-13, -2.51132448e-12, -5.79247761e-12, -2.12119211e-12,\n",
      "        1.99362749e-11,  5.66307556e-11,  7.90539301e-11,  5.20685717e-11,\n",
      "       -2.99997804e-11, -1.28129229e-10, -1.82514226e-10, -1.55253477e-10,\n",
      "       -5.62206948e-11,  6.48431586e-11,  1.50042284e-10,  1.65578384e-10,\n",
      "        1.16087251e-10,  3.62991581e-11, -3.22168681e-11, -6.36089514e-11,\n",
      "       -5.73222303e-11, -3.13569448e-11, -6.81524281e-12,  4.95331554e-12,\n",
      "        5.30048228e-12,  2.08888462e-12,  9.89791582e-13,  1.29818378e-12,\n",
      "       -1.52550195e-12, -9.57814383e-12, -1.81811788e-11, -1.75945092e-11,\n",
      "       -5.02070607e-13,  2.92510460e-11,  5.32811850e-11,  4.62514749e-11,\n",
      "       -4.02478051e-12, -7.18026610e-11, -9.03682823e-11, -9.61293545e-12,\n",
      "        1.05508657e-10,  6.74350853e-11, -9.18536636e-11]), 'RCerr_ss': -3.197442310920451e-14, 'ss_time': 0.08017999999999859}\n"
     ]
    }
   ],
   "source": [
    "bvec_guess = .1*np.ones(79)\n",
    "nvec = np.ones(79)\n",
    "nvec = np.append(nvec, .2)\n",
    "# beta = .442\n",
    "# delta = .6415\n",
    "# sigma = 3\n",
    "# A = 1\n",
    "# alpha = .35\n",
    "# bvec_guess = [.1,.1]\n",
    "# nvec = [1,1,.2]\n",
    "params = beta, sigma, nvec, A, alpha, delta, SS_tol\n",
    "ss_output = get_SS_var(params, bvec_guess, False)\n",
    "print(\"Time Taken: {} Seconds\".format(ss_output['ss_time']))\n",
    "print(ss_output)"
   ]
  },
  {
   "cell_type": "code",
   "execution_count": 214,
   "metadata": {},
   "outputs": [
    {
     "data": {
      "image/png": "[encoded data removed]",
      "text/plain": [
       "<Figure size 432x288 with 1 Axes>"
      ]
     },
     "metadata": {},
     "output_type": "display_data"
    }
   ],
   "source": [
    "plt.plot(np.linspace(1, 80, 80), ss_output['c_ss'], label=\"Consumption\")\n",
    "b_steady = ss_output['b_ss']\n",
    "b_steady = np.insert(b_steady, 0, 0)\n",
    "plt.plot(np.linspace(1, 80, 80), b_steady, label=\"Savings\")\n",
    "plt.legend()\n",
    "plt.show()"
   ]
  },
  {
   "cell_type": "code",
   "execution_count": 215,
   "metadata": {},
   "outputs": [
    {
     "name": "stdout",
     "output_type": "stream",
     "text": [
      "Time Taken: 0.08734700000000117 Seconds\n"
     ]
    },
    {
     "data": {
      "image/png": "[encoded data removed]",
      "text/plain": [
       "<Figure size 432x288 with 1 Axes>"
      ]
     },
     "metadata": {},
     "output_type": "display_data"
    }
   ],
   "source": [
    "n_vec_1 = np.ones(40)\n",
    "n_vec_2 = np.ones(40)*0.2\n",
    "nvec = np.append(n_vec_1, n_vec_2)\n",
    "bvec_guess = .1*np.ones(79)\n",
    "params = beta, sigma, nvec, A, alpha, delta, SS_tol\n",
    "ss_output = get_SS_var(params, bvec_guess, False)\n",
    "print(\"Time Taken: {} Seconds\".format(ss_output['ss_time']))\n",
    "\n",
    "plt.plot(np.linspace(1, 80, 80), ss_output['c_ss'], label=\"Consumption\")\n",
    "b_steady = ss_output['b_ss']\n",
    "b_steady = np.insert(b_steady, 0, 0)\n",
    "plt.plot(np.linspace(1, 80, 80), b_steady, label=\"Savings\")\n",
    "plt.legend()\n",
    "plt.show()"
   ]
  },
  {
   "cell_type": "code",
   "execution_count": 216,
   "metadata": {},
   "outputs": [
    {
     "data": {
      "text/plain": [
       "{'b_ss': array([ 0.12750186,  0.26877057,  0.42394716,  0.59317577,  0.77660375,\n",
       "         0.97438164,  1.18666326,  1.41360578,  1.6553697 ,  1.91211899,\n",
       "         2.18402106,  2.47124688,  2.77397097,  3.09237154,  3.42663045,\n",
       "         3.77693334,  4.14346965,  4.52643272,  4.92601977,  5.34243207,\n",
       "         5.77587492,  6.22655773,  6.69469411,  7.18050193,  7.68420335,\n",
       "         8.20602495,  8.74619773,  9.30495725,  9.88254364, 10.47920172,\n",
       "        11.09518106, 11.73073603, 12.38612593, 13.06161499, 13.75747256,\n",
       "        14.47397307, 15.2113962 , 15.97002694, 16.75015566, 17.5520782 ,\n",
       "        17.10917075, 16.66717719, 16.22604588, 15.78572483, 15.3461617 ,\n",
       "        14.9073038 , 14.46909804, 14.03149098, 13.59442876, 13.15785715,\n",
       "        12.72172146, 12.28596662, 11.8505371 , 11.41537693, 10.98042966,\n",
       "        10.54563841, 10.11094578,  9.67629388,  9.24162434,  8.80687824,\n",
       "         8.37199615,  7.93691806,  7.50158346,  7.06593121,  6.62989962,\n",
       "         6.1934264 ,  5.75644864,  5.3189028 ,  4.88072472,  4.44184957,\n",
       "         4.00221184,  3.56174537,  3.12038329,  2.67805799,  2.23470117,\n",
       "         1.79024375,  1.34461593,  0.89774709,  0.44956585]),\n",
       " 'c_ss': array([1.45615469, 1.44455041, 1.4330386 , 1.42161854, 1.41028948,\n",
       "        1.3990507 , 1.38790149, 1.37684112, 1.3658689 , 1.35498412,\n",
       "        1.34418607, 1.33347408, 1.32284746, 1.31230552, 1.30184759,\n",
       "        1.291473  , 1.28118109, 1.27097119, 1.26084266, 1.25079484,\n",
       "        1.2408271 , 1.23093879, 1.22112928, 1.21139795, 1.20174416,\n",
       "        1.19216731, 1.18266677, 1.17324195, 1.16389224, 1.15461703,\n",
       "        1.14541574, 1.13628778, 1.12723255, 1.11824949, 1.10933802,\n",
       "        1.10049757, 1.09172756, 1.08302744, 1.07439666, 1.06583466,\n",
       "        1.05734088, 1.0489148 , 1.04055586, 1.03226354, 1.0240373 ,\n",
       "        1.01587662, 1.00778097, 0.99974983, 0.9917827 , 0.98387905,\n",
       "        0.9760384 , 0.96826022, 0.96054403, 0.95288933, 0.94529564,\n",
       "        0.93776246, 0.93028931, 0.92287571, 0.9155212 , 0.90822529,\n",
       "        0.90098753, 0.89380745, 0.88668458, 0.87961848, 0.87260869,\n",
       "        0.86565476, 0.85875624, 0.8519127 , 0.8451237 , 0.8383888 ,\n",
       "        0.83170758, 0.82507959, 0.81850443, 0.81198166, 0.80551088,\n",
       "        0.79909166, 0.79272359, 0.78640628, 0.78013931, 0.77392228]),\n",
       " 'w_ss': 1.5836565519482595,\n",
       " 'r_ss': 0.016961075031187406,\n",
       " 'K_ss': 611.2720093287071,\n",
       " 'Y_ss': 116.9469453746407,\n",
       " 'C_ss': 86.38334490820542,\n",
       " 'EulErr_ss': array([ 4.47613613e-11,  4.14703272e-11, -8.91937080e-11, -1.21986699e-10,\n",
       "         1.26560373e-10, -2.43072229e-12,  5.80646642e-14,  1.37445610e-13,\n",
       "         1.23956401e-13,  1.21347377e-13,  1.23845378e-13,  1.28674849e-13,\n",
       "         1.34559031e-13,  1.44440016e-13,  1.48492330e-13,  1.61926028e-13,\n",
       "         1.74471548e-13,  1.79078974e-13,  1.96620498e-13,  2.10831352e-13,\n",
       "         2.26929586e-13,  2.45581333e-13,  2.61679567e-13,  2.53685961e-13,\n",
       "         2.36921593e-13,  1.73971948e-13,  6.52811138e-14, -1.24122934e-13,\n",
       "        -3.97348821e-13, -7.31636973e-13, -1.10167431e-12, -1.47493129e-12,\n",
       "        -1.80711002e-12, -1.73572268e-12,  4.17554880e-13,  9.10305165e-12,\n",
       "        -3.70453668e-11, -2.79742896e-10,  3.16846660e-10,  1.04294351e-11,\n",
       "        -4.01344402e-10, -5.18703969e-11,  4.79585927e-10, -4.76756412e-11,\n",
       "         7.28723859e-10, -4.02703093e-10, -2.37906950e-09, -5.73758374e-10,\n",
       "         1.54971258e-09,  1.64996394e-09,  6.77458756e-10, -1.44533496e-10,\n",
       "        -4.44606796e-10, -3.80165899e-10, -1.99413375e-10, -5.51594326e-11,\n",
       "         1.09159348e-11,  2.11624052e-11,  1.41413548e-11,  1.40718548e-11,\n",
       "         2.21338503e-11,  2.31819008e-11,  2.50910404e-13, -5.11608533e-11,\n",
       "        -1.15496945e-10, -1.60682356e-10, -1.54139146e-10, -8.53017657e-11,\n",
       "         4.21556123e-11,  2.40158338e-10,  3.22642357e-10,  1.65121250e-11,\n",
       "        -5.84019499e-11,  3.87490040e-12,  1.39470657e-11, -1.40110146e-13,\n",
       "         1.06989972e-11, -9.03410680e-12,  3.93240995e-12]),\n",
       " 'RCerr_ss': -6.750155989720952e-14,\n",
       " 'ss_time': 0.08734700000000117}"
      ]
     },
     "execution_count": 216,
     "metadata": {},
     "output_type": "execute_result"
    }
   ],
   "source": [
    "ss_output"
   ]
  },
  {
   "cell_type": "markdown",
   "metadata": {},
   "source": [
    "Note that now, consumtion is decreasing over time rather than increasing, savings increases sharply until age 40 when people retire, where it has a kink and decreases. Moreover, wage is higher, and the interest rate on savings is a lot lower. \n",
    "\n",
    "The intuition behind this is that people save to smooth consumption, so in preparation for retirement they save a lot when young, decreasing once they retire. Wage is higher as there is a lot less labor supply available in the steady state. The interest rate decreases as there is a lot more aggregate saving in the steady state. "
   ]
  },
  {
   "cell_type": "code",
   "execution_count": null,
   "metadata": {},
   "outputs": [],
   "source": []
  }
 ],
 "metadata": {
  "kernelspec": {
   "display_name": "Python 3",
   "language": "python",
   "name": "python3"
  },
  "language_info": {
   "codemirror_mode": {
    "name": "ipython",
    "version": 3
   },
   "file_extension": ".py",
   "mimetype": "text/x-python",
   "name": "python",
   "nbconvert_exporter": "python",
   "pygments_lexer": "ipython3",
   "version": "3.6.8"
  }
 },
 "nbformat": 4,
 "nbformat_minor": 2
}
