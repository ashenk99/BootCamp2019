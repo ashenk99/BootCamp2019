{
 "cells": [
  {
   "cell_type": "markdown",
   "metadata": {},
   "source": [
    "Welcome to the Week 1 Economics Problem Set on Dynamic Programming!\n",
    "Here, we complete all the exercises in Professor Felix Kubler's set."
   ]
  },
  {
   "cell_type": "markdown",
   "metadata": {},
   "source": [
    "# Problem 1: "
   ]
  },
  {
   "cell_type": "markdown",
   "metadata": {},
   "source": [
    "An asset market equilibrium exists when all agents are maximizing their utility and the sum of the asset holdings for each asset is zero."
   ]
  },
  {
   "cell_type": "code",
   "execution_count": 33,
   "metadata": {},
   "outputs": [],
   "source": [
    "import numpy as np\n",
    "from scipy.optimize import fsolve\n",
    "\n",
    "## NOTE: A \n",
    "def firstordercond(z, *params):\n",
    "    #define the first order conditions for the asset market equilibrium\n",
    "    gamma, nn = params\n",
    "    theta_1_1 = z[0]\n",
    "    theta_1_2 = z[1]\n",
    "    theta_2_1 = z[2]\n",
    "    theta_2_2 = z[3]\n",
    "    q_1 = z[4]\n",
    "    q_2 = z[5]\n",
    "    f = np.zeros(6)\n",
    "    c_0_1 = 1- q_1*theta_1_1 - q_2 * theta_2_1\n",
    "    c_0_2 = 1- q_1*theta_1_2 - q_2 * theta_2_2\n",
    "    c_1_1 = 1 + theta_1_1 + theta_2_1\n",
    "    c_1_2 = 3 + theta_1_2 + theta_2_2\n",
    "    c_2_1 = 2 + theta_1_1 + theta_2_1\n",
    "    c_2_2 = 1 + theta_1_2 + theta_2_2\n",
    "    c_3_1 = 1 + theta_1_1 + (theta_2_1 * 1.5)\n",
    "    c_3_2 = 3 + theta_1_2 + (theta_2_2 * 1.5)\n",
    "    c_4_1 = 2 + theta_1_1 + (theta_2_1 * 1.5)\n",
    "    c_4_2 = 1 + theta_1_2 + (theta_2_2 * 1.5)\n",
    "    f[0] = (c_0_1 ** (-gamma))*(-q_1) + .25*((c_1_1** (-gamma)) + (c_2_1 **(-gamma)) + (c_3_1 ** (-gamma)) + (c_4_1**(-gamma)))\n",
    "    f[1] = (c_0_2 ** -gamma)*(-q_1) + .25*(c_1_2 **-gamma + c_2_2 **-gamma + c_3_2**-gamma + c_4_2**-gamma)\n",
    "    f[2] = (c_0_1 ** -gamma)*(-q_2) + .25*(c_1_1 **-gamma + c_2_1 **-gamma + (c_3_1**-gamma)*1.5 + (c_4_1**-gamma)*1.5)\n",
    "    f[3] = (c_0_2 ** -gamma)*(-q_2) + .25*(c_1_2 **-gamma + c_2_2 **-gamma + (c_3_2**-gamma)*1.5 + (c_4_2**-gamma)*1.5)\n",
    "    f[4] = theta_1_1 + theta_1_2\n",
    "    f[5] = theta_2_1 + theta_2_2\n",
    "    return f"
   ]
  },
  {
   "cell_type": "code",
   "execution_count": 40,
   "metadata": {},
   "outputs": [
    {
     "name": "stdout",
     "output_type": "stream",
     "text": [
      "Solution for gamma = 2.0: in format:\n",
      " Asset 1, Person 1;\n",
      " Asset 1, Person 2;\n",
      " Asset 2, Person 1;\n",
      " Asset 2, Person 2;\n",
      " Price, Asset 1;\n",
      " Price, Asset 2\n",
      "[ 1.95406655e-02 -1.95406655e-02 -1.76151838e-15  1.76151838e-15\n",
      "  5.89777656e-01  7.37222070e-01]\n",
      "Solution for gamma = 6.0: in format:\n",
      " Asset 1, Person 1;\n",
      " Asset 1, Person 2;\n",
      " Asset 2, Person 1;\n",
      " Asset 2, Person 2;\n",
      " Price, Asset 1;\n",
      " Price, Asset 2\n",
      "[ 7.85218861e-04 -7.85218861e-04 -3.07706334e-16  3.07706334e-16\n",
      "  5.04245349e-01  6.30306687e-01]\n",
      "Solution for gamma = 8.0: in format:\n",
      " Asset 1, Person 1;\n",
      " Asset 1, Person 2;\n",
      " Asset 2, Person 1;\n",
      " Asset 2, Person 2;\n",
      " Price, Asset 1;\n",
      " Price, Asset 2\n",
      "[ 1.56094147e-04 -1.56094147e-04  2.14170569e-16 -2.14170569e-16\n",
      "  5.01014401e-01  6.26268001e-01]\n",
      "Solution for gamma = 166.0: in format:\n",
      " Asset 1, Person 1;\n",
      " Asset 1, Person 2;\n",
      " Asset 2, Person 1;\n",
      " Asset 2, Person 2;\n",
      " Price, Asset 1;\n",
      " Price, Asset 2\n",
      "[-6.34718693e-17  6.34718693e-17  7.39777053e-17 -7.39777053e-17\n",
      "  5.00000000e-01  6.25000000e-01]\n"
     ]
    }
   ],
   "source": [
    "nn=0\n",
    "for gamma in [2., 6., 8., 166.]:\n",
    "\n",
    "    params = (gamma, nn)\n",
    "    print(\"Solution for gamma = {}: in format:\\n Asset 1, Person 1;\\n Asset 1, Person 2;\\n Asset 2, Person 1;\\n Asset 2, Person 2;\\n Price, Asset 1;\\n Price, Asset 2\".format(gamma))\n",
    "    print(fsolve(firstordercond, [0.0,0.0,0.0,0.0,0.0,0.0], args=(params)))"
   ]
  },
  {
   "cell_type": "markdown",
   "metadata": {},
   "source": [
    "# Problem 2:"
   ]
  },
  {
   "cell_type": "code",
   "execution_count": 41,
   "metadata": {},
   "outputs": [],
   "source": [
    "import numpy as np\n",
    "def next_move(board, score=0, last_move_parity =None, best_score= -1e30):\n",
    "    \"\"\"This takes a tic tac toe board and computes the next best possible move using Bellman equations.\n",
    "    Format: a tic tac toe board contains 0s, 1s, and -1s, corresponding to empty spaces, X's and O's respectively. \n",
    "    If the parity of the sum of board values is even, X moves. Odd, O moves.\n",
    "    \n",
    "    A move is an ordered pair (x,y) where x and y are between 0 and 2, a position on the board to put the mark.\n",
    "    \n",
    "    Returns: best_move: tuple of move\n",
    "             board: updated board\n",
    "             message: either: You win! // You lose! // Your turn!\n",
    "    \"\"\"\n",
    "    for i in range(len(board)):\n",
    "        if np.abs(np.sum(board[i,:])) == 3 or np.abs(np.sum(board[:,i])) == 3 \\\n",
    "        or np.abs(np.sum(np.diag(board)))==3 or np.abs(np.sum(np.diag(np.fliplr(board)))) ==3:\n",
    "            message = \"You win!\"\n",
    "            board = board\n",
    "            best_move = None\n",
    "            return best_move, board, message\n",
    "        \n",
    "\n",
    "    temp_board = board.copy()\n",
    "    possible_moves = []\n",
    "    \n",
    "    #determine the set of possible initial moves\n",
    "    for i in range(len(board)):\n",
    "        for j in range(len(board[0])):\n",
    "            if board[i][j] == 0:\n",
    "                possible_moves.append((i,j))\n",
    "    print(possible_moves)\n",
    "    depth = len(possible_moves)\n",
    "    \n",
    "    if depth == 0:\n",
    "        return None, board, \"Tie!\"\n",
    "    \n",
    "    #possible_moves = [(2,0)]\n",
    "    for move in possible_moves:\n",
    "        print(\"Move: {}\".format(move))\n",
    "        \n",
    "        move_temp = move\n",
    "        \n",
    "        if np.sum(board) % 2 == 0:\n",
    "            move_parity = 0\n",
    "            board[move[0]][move[1]] = 1   \n",
    "        else: \n",
    "            move_parity = 1\n",
    "            board[move[0]][move[1]] = -1\n",
    "        score = move_score(board, move_parity, best_score, depth-1)\n",
    "\n",
    "        if score >= best_score:\n",
    "            best_move = move_temp\n",
    "            best_score = score\n",
    "        board[move[0]][move[1]] = 0 \n",
    "        print(\"Move {} and Score {}\".format(move, score))\n",
    "    if np.sum(board) % 2 == 0:\n",
    "        board[best_move[0]][best_move[1]] = 1\n",
    "    else: board[best_move[0]][best_move[1]] = -1\n",
    "            \n",
    "            \n",
    "    message = \"Hooray!\"\n",
    "    return best_move, board, message\n",
    "\n",
    "\n",
    "def move_score(board, move_parity, best_score, depth,score = 0):\n",
    "    \"\"\"Calls itself until we're out of moves, computes a overall move score\n",
    "    for playing the move from next_move based on the possible outcomes of the\n",
    "    board and the ways to reach them\"\"\"\n",
    "    #determine the set of possible remaining moves\n",
    "\n",
    "    possible_moves = []\n",
    "    for i in range(len(board)):\n",
    "        for j in range(len(board[0])):\n",
    "            if board[i][j] == 0:\n",
    "                possible_moves.append((i,j))\n",
    "\n",
    "\n",
    "    \n",
    "    row_sums = [np.sum(board[i]) for i in range(len(board))]\n",
    "    col_sums = [np.sum(board[:,j]) for j in range(len(board[0]))]\n",
    "    diag_sums = [np.sum(np.diag(board)), np.sum(np.diag(np.fliplr(board)))]\n",
    "    if move_parity == 0:\n",
    "        for rowsum, colsum in zip(row_sums, col_sums):\n",
    "            if rowsum == -3 or colsum == -3:\n",
    "                return -1 * (2 ** (depth))\n",
    "            elif rowsum == 3 or colsum ==3:\n",
    "                return 1 * (2 ** (depth))\n",
    "        for diag_sum in diag_sums:\n",
    "            if diag_sum == -3 or diag_sum == -3:\n",
    "                return -1 * (2 ** (depth))\n",
    "            elif diag_sum == 3 or diag_sum ==3:\n",
    "                return 1 * (2 ** (depth))\n",
    "    else: \n",
    "        for rowsum, colsum in zip(row_sums, col_sums):\n",
    "            if rowsum == 3 or colsum == 3:\n",
    "                return -1 * (2 ** (depth))\n",
    "            elif rowsum == -3 or colsum == -3:\n",
    "                return 1 * (2 ** (depth))\n",
    "        for diag_sum in diag_sums:\n",
    "            if diag_sum == 3 or diag_sum ==3:\n",
    "                return -1 * (2 ** (depth))\n",
    "            elif diag_sum == -3 or diag_sum == -3:\n",
    "                return 1 * (2 ** (depth))\n",
    "    \n",
    "    if depth == 0:\n",
    "        return 1\n",
    "\n",
    "    for move in possible_moves:\n",
    "        temp_board = board.copy()\n",
    "        if np.sum(board) % 2 == 0:\n",
    "            temp_board[move[0]][move[1]] = 1 \n",
    "        else: \n",
    "            temp_board[move[0]][move[1]] = -1\n",
    "        score += move_score(temp_board, move_parity, best_score, depth-1)\n",
    "    return score\n",
    "\n",
    "\n",
    "    \n"
   ]
  },
  {
   "cell_type": "markdown",
   "metadata": {},
   "source": [
    "Here, I sample the board playing against itself. Feel free to try playing \n",
    "your own game against it! It will not lose, unless you cheat."
   ]
  },
  {
   "cell_type": "code",
   "execution_count": 42,
   "metadata": {},
   "outputs": [
    {
     "name": "stdout",
     "output_type": "stream",
     "text": [
      "[[0 0 0]\n",
      " [0 0 0]\n",
      " [0 0 0]]\n",
      "[(0, 0), (0, 1), (0, 2), (1, 0), (1, 1), (1, 2), (2, 0), (2, 1), (2, 2)]\n",
      "Move: (0, 0)\n",
      "Move (0, 0) and Score 20496\n",
      "Move: (0, 1)\n",
      "Move (0, 1) and Score 10656\n",
      "Move: (0, 2)\n",
      "Move (0, 2) and Score 20496\n",
      "Move: (1, 0)\n",
      "Move (1, 0) and Score 10656\n",
      "Move: (1, 1)\n",
      "Move (1, 1) and Score 30336\n",
      "Move: (1, 2)\n",
      "Move (1, 2) and Score 10656\n",
      "Move: (2, 0)\n",
      "Move (2, 0) and Score 20496\n",
      "Move: (2, 1)\n",
      "Move (2, 1) and Score 10656\n",
      "Move: (2, 2)\n",
      "Move (2, 2) and Score 20496\n",
      "((1, 1), array([[0, 0, 0],\n",
      "       [0, 1, 0],\n",
      "       [0, 0, 0]]), 'Hooray!')\n"
     ]
    }
   ],
   "source": [
    "board = np.zeros((3,3), dtype=int)\n",
    "print(board)\n",
    "print(next_move(board))"
   ]
  },
  {
   "cell_type": "code",
   "execution_count": 44,
   "metadata": {},
   "outputs": [
    {
     "name": "stdout",
     "output_type": "stream",
     "text": [
      "[(0, 0), (0, 1), (0, 2), (1, 0), (1, 2), (2, 0), (2, 1), (2, 2)]\n",
      "Move: (0, 0)\n",
      "Move (0, 0) and Score -2064\n",
      "Move: (0, 1)\n",
      "Move (0, 1) and Score -3216\n",
      "Move: (0, 2)\n",
      "Move (0, 2) and Score -2064\n",
      "Move: (1, 0)\n",
      "Move (1, 0) and Score -3216\n",
      "Move: (1, 2)\n",
      "Move (1, 2) and Score -3216\n",
      "Move: (2, 0)\n",
      "Move (2, 0) and Score -2064\n",
      "Move: (2, 1)\n",
      "Move (2, 1) and Score -3216\n",
      "Move: (2, 2)\n",
      "Move (2, 2) and Score -2064\n",
      "((2, 2), array([[ 0,  0,  0],\n",
      "       [ 0,  1,  0],\n",
      "       [ 0,  0, -1]]), 'Hooray!')\n"
     ]
    }
   ],
   "source": [
    "print(next_move(board))"
   ]
  },
  {
   "cell_type": "code",
   "execution_count": 45,
   "metadata": {},
   "outputs": [
    {
     "name": "stdout",
     "output_type": "stream",
     "text": [
      "[(0, 0), (0, 1), (0, 2), (1, 0), (1, 2), (2, 0), (2, 1)]\n",
      "Move: (0, 0)\n",
      "Move (0, 0) and Score 320\n",
      "Move: (0, 1)\n",
      "Move (0, 1) and Score 348\n",
      "Move: (0, 2)\n",
      "Move (0, 2) and Score 552\n",
      "Move: (1, 0)\n",
      "Move (1, 0) and Score 348\n",
      "Move: (1, 2)\n",
      "Move (1, 2) and Score 548\n",
      "Move: (2, 0)\n",
      "Move (2, 0) and Score 552\n",
      "Move: (2, 1)\n",
      "Move (2, 1) and Score 548\n",
      "((2, 0), array([[ 0,  0,  0],\n",
      "       [ 0,  1,  0],\n",
      "       [ 1,  0, -1]]), 'Hooray!')\n"
     ]
    }
   ],
   "source": [
    "print(next_move(board))"
   ]
  },
  {
   "cell_type": "code",
   "execution_count": 46,
   "metadata": {},
   "outputs": [
    {
     "name": "stdout",
     "output_type": "stream",
     "text": [
      "[(0, 0), (0, 1), (0, 2), (1, 0), (1, 2), (2, 1)]\n",
      "Move: (0, 0)\n",
      "Move (0, 0) and Score -112\n",
      "Move: (0, 1)\n",
      "Move (0, 1) and Score -88\n",
      "Move: (0, 2)\n",
      "Move (0, 2) and Score 28\n",
      "Move: (1, 0)\n",
      "Move (1, 0) and Score -76\n",
      "Move: (1, 2)\n",
      "Move (1, 2) and Score -48\n",
      "Move: (2, 1)\n",
      "Move (2, 1) and Score -112\n",
      "((0, 2), array([[ 0,  0, -1],\n",
      "       [ 0,  1,  0],\n",
      "       [ 1,  0, -1]]), 'Hooray!')\n"
     ]
    }
   ],
   "source": [
    "print(next_move(board))"
   ]
  },
  {
   "cell_type": "code",
   "execution_count": 47,
   "metadata": {},
   "outputs": [
    {
     "name": "stdout",
     "output_type": "stream",
     "text": [
      "[(0, 0), (0, 1), (1, 0), (1, 2), (2, 1)]\n",
      "Move: (0, 0)\n",
      "Move (0, 0) and Score 2\n",
      "Move: (0, 1)\n",
      "Move (0, 1) and Score 2\n",
      "Move: (1, 0)\n",
      "Move (1, 0) and Score 2\n",
      "Move: (1, 2)\n",
      "Move (1, 2) and Score 24\n",
      "Move: (2, 1)\n",
      "Move (2, 1) and Score -10\n",
      "((1, 2), array([[ 0,  0, -1],\n",
      "       [ 0,  1,  1],\n",
      "       [ 1,  0, -1]]), 'Hooray!')\n"
     ]
    }
   ],
   "source": [
    "print(next_move(board))"
   ]
  },
  {
   "cell_type": "code",
   "execution_count": 48,
   "metadata": {},
   "outputs": [
    {
     "name": "stdout",
     "output_type": "stream",
     "text": [
      "[(0, 0), (0, 1), (1, 0), (2, 1)]\n",
      "Move: (0, 0)\n",
      "Move (0, 0) and Score -5\n",
      "Move: (0, 1)\n",
      "Move (0, 1) and Score -1\n",
      "Move: (1, 0)\n",
      "Move (1, 0) and Score 2\n",
      "Move: (2, 1)\n",
      "Move (2, 1) and Score -4\n",
      "((1, 0), array([[ 0,  0, -1],\n",
      "       [-1,  1,  1],\n",
      "       [ 1,  0, -1]]), 'Hooray!')\n"
     ]
    }
   ],
   "source": [
    "print(next_move(board))"
   ]
  },
  {
   "cell_type": "code",
   "execution_count": 49,
   "metadata": {},
   "outputs": [
    {
     "name": "stdout",
     "output_type": "stream",
     "text": [
      "[(0, 0), (0, 1), (2, 1)]\n",
      "Move: (0, 0)\n",
      "Move (0, 0) and Score 2\n",
      "Move: (0, 1)\n",
      "Move (0, 1) and Score 2\n",
      "Move: (2, 1)\n",
      "Move (2, 1) and Score 2\n",
      "((2, 1), array([[ 0,  0, -1],\n",
      "       [-1,  1,  1],\n",
      "       [ 1,  1, -1]]), 'Hooray!')\n"
     ]
    }
   ],
   "source": [
    "print(next_move(board))"
   ]
  },
  {
   "cell_type": "code",
   "execution_count": 50,
   "metadata": {},
   "outputs": [
    {
     "name": "stdout",
     "output_type": "stream",
     "text": [
      "[(0, 0), (0, 1)]\n",
      "Move: (0, 0)\n",
      "Move (0, 0) and Score -1\n",
      "Move: (0, 1)\n",
      "Move (0, 1) and Score 1\n",
      "((0, 1), array([[ 0, -1, -1],\n",
      "       [-1,  1,  1],\n",
      "       [ 1,  1, -1]]), 'Hooray!')\n"
     ]
    }
   ],
   "source": [
    "print(next_move(board))"
   ]
  },
  {
   "cell_type": "code",
   "execution_count": 51,
   "metadata": {},
   "outputs": [
    {
     "name": "stdout",
     "output_type": "stream",
     "text": [
      "[(0, 0)]\n",
      "Move: (0, 0)\n",
      "Move (0, 0) and Score 1\n",
      "((0, 0), array([[ 1, -1, -1],\n",
      "       [-1,  1,  1],\n",
      "       [ 1,  1, -1]]), 'Hooray!')\n"
     ]
    }
   ],
   "source": [
    "print(next_move(board))"
   ]
  },
  {
   "cell_type": "code",
   "execution_count": 52,
   "metadata": {},
   "outputs": [
    {
     "name": "stdout",
     "output_type": "stream",
     "text": [
      "[]\n",
      "(None, array([[ 1, -1, -1],\n",
      "       [-1,  1,  1],\n",
      "       [ 1,  1, -1]]), 'Tie!')\n"
     ]
    }
   ],
   "source": [
    "print(next_move(board))"
   ]
  },
  {
   "cell_type": "markdown",
   "metadata": {},
   "source": [
    "# Problem 3: Ramsey Model Value Function Iteration"
   ]
  },
  {
   "cell_type": "code",
   "execution_count": 53,
   "metadata": {},
   "outputs": [],
   "source": [
    "import numpy as np\n",
    "import scipy\n",
    "import matplotlib.pyplot as plt\n",
    "import scipy.optimize as opt\n",
    "import scipy.interpolate as intpl"
   ]
  },
  {
   "cell_type": "code",
   "execution_count": 55,
   "metadata": {},
   "outputs": [
    {
     "name": "stdout",
     "output_type": "stream",
     "text": [
      "[[0.00995033 0.19381982 0.34907471 0.48343345 0.60185951 0.70773415\n",
      "  0.80346478 0.89082639 0.97116536 1.0455272  1.11474004 1.17947099\n",
      "  1.24026537 1.29757466 1.35177686 1.40319161 1.45209166 1.49871155\n",
      "  1.5432545  1.5858977  1.62679658 1.66608826 1.7038943  1.74032295\n",
      "  1.77547107 1.80942563 1.84226504 1.87406022 1.90487555 1.93476961\n",
      "  1.96379589 1.99200336 2.01943694 2.04613798 2.07214458 2.09749193\n",
      "  2.12221266 2.14633698 2.169893   2.19290688 2.21540301 2.23740419\n",
      "  2.25893171 2.28000555 2.30064444 2.32086595 2.34068666 2.36012212\n",
      "  2.37918704 2.39789527]\n",
      " [0.00995033 0.19381982 0.34907471 0.48343345 0.60185951 0.70773415\n",
      "  0.80346478 0.89082639 0.97116536 1.0455272  1.11474004 1.17947099\n",
      "  1.24026537 1.29757466 1.35177686 1.40319161 1.45209166 1.49871155\n",
      "  1.5432545  1.5858977  1.62679658 1.66608826 1.7038943  1.74032295\n",
      "  1.77547107 1.80942563 1.84226504 1.87406022 1.90487555 1.93476961\n",
      "  1.96379589 1.99200336 2.01943694 2.04613798 2.07214458 2.09749193\n",
      "  2.12221266 2.14633698 2.169893   2.19290688 2.21540301 2.23740419\n",
      "  2.25893171 2.28000555 2.30064444 2.32086595 2.34068666 2.36012212\n",
      "  2.37918704 2.39789527]]\n",
      "[ 0.01        0.21387755  0.4177551   0.62163265  0.8255102   1.02938776\n",
      "  1.23326531  1.43714286  1.64102041  1.84489796  2.04877551  2.25265306\n",
      "  2.45653061  2.66040816  2.86428571  3.06816327  3.27204082  3.47591837\n",
      "  3.67979592  3.88367347  4.08755102  4.29142857  4.49530612  4.69918367\n",
      "  4.90306122  5.10693878  5.31081633  5.51469388  5.71857143  5.92244898\n",
      "  6.12632653  6.33020408  6.53408163  6.73795918  6.94183673  7.14571429\n",
      "  7.34959184  7.55346939  7.75734694  7.96122449  8.16510204  8.36897959\n",
      "  8.57285714  8.77673469  8.98061224  9.1844898   9.38836735  9.5922449\n",
      "  9.79612245 10.        ]\n"
     ]
    }
   ],
   "source": [
    "cap_grid = np.linspace(0.01, 10, 50)\n",
    "init_guess_state_1 = np.log(cap_grid + 1)\n",
    "init_guess_state_2 = np.log(cap_grid + 1)\n",
    "init_guess = np.vstack((init_guess_state_1, init_guess_state_2))\n",
    "print(init_guess)\n",
    "print(cap_grid)"
   ]
  },
  {
   "cell_type": "code",
   "execution_count": 56,
   "metadata": {},
   "outputs": [],
   "source": [
    "def val_func_1(k_j, *args):\n",
    "    k_init, util, V_t, beta, k_ind = args\n",
    "    Val_1 = util((0.9*(k_init)**.3 + .3*k_init) - k_j) + beta * (.5 * V_t[0,k_ind] + .5 * V_t[1,k_ind])\n",
    "    #Val_2 = util((1.1*(k_init)**.3 + .9*k_init) - k_j)[0] + beta * (.5 * V_t[0][k_ind] + .5 * V_t[1][k_ind])\n",
    "    #Val = np.vstack((Val_1, Val_2))\n",
    "\n",
    "    return Val_1\n",
    "    \n",
    "    \n",
    "def val_func_2(k_j, *args):\n",
    "    k_init, util, V_t, beta, k_ind = args\n",
    "    \n",
    "    #Val_1 = util((0.9*(k_init)**.3 + .3*k_init) - k_j) + beta * (.5 * V_t[0][k_ind] + .5 * V_t[1][k_ind])\n",
    "    Val_2 = util((1.1*(k_init)**.3 + .9*k_init) - k_j) + beta * (.5 * V_t[0,k_ind] + .5 * V_t[1,k_ind])\n",
    "    #Val = np.vstack((Val_1, Val_2))\n",
    "\n",
    "    return Val_2\n",
    "    \n",
    "def util(c):\n",
    "    if c > 0:\n",
    "        return np.log(c)\n",
    "    else: \n",
    "        return -5000000"
   ]
  },
  {
   "cell_type": "code",
   "execution_count": 57,
   "metadata": {},
   "outputs": [
    {
     "name": "stdout",
     "output_type": "stream",
     "text": [
      "VF_iter= 1 , VF_1_dist= 13.620149871276181 , VF_2_dist= 25.082799860256607\n",
      "VF_iter= 2 , VF_1_dist= 5.015843783290559 , VF_2_dist= 2.818932244623648\n",
      "VF_iter= 3 , VF_1_dist= 6.451552891958876 , VF_2_dist= 3.3078554832975016\n",
      "VF_iter= 4 , VF_1_dist= 6.990579211006037 , VF_2_dist= 4.0269254775133385\n",
      "VF_iter= 5 , VF_1_dist= 6.570594156520691 , VF_2_dist= 4.7794291732463625\n",
      "VF_iter= 6 , VF_1_dist= 5.873108893274106 , VF_2_dist= 4.886758716760397\n",
      "VF_iter= 7 , VF_1_dist= 5.098072057412615 , VF_2_dist= 4.5381840626547945\n",
      "VF_iter= 8 , VF_1_dist= 4.274860920847115 , VF_2_dist= 4.009018839531579\n",
      "VF_iter= 9 , VF_1_dist= 3.5180896772287897 , VF_2_dist= 3.40984997247039\n",
      "VF_iter= 10 , VF_1_dist= 2.8690705352870958 , VF_2_dist= 2.828314562236176\n",
      "VF_iter= 11 , VF_1_dist= 2.329096781443682 , VF_2_dist= 2.3138387324050482\n",
      "VF_iter= 12 , VF_1_dist= 1.8881902625978502 , VF_2_dist= 1.882595940004001\n",
      "VF_iter= 13 , VF_1_dist= 1.530057045532766 , VF_2_dist= 1.5280319352976437\n",
      "VF_iter= 14 , VF_1_dist= 1.2395901477049047 , VF_2_dist= 1.2387989722913526\n",
      "VF_iter= 15 , VF_1_dist= 1.0041633678575488 , VF_2_dist= 1.0038393828343606\n",
      "VF_iter= 16 , VF_1_dist= 0.81340953200595 , VF_2_dist= 0.813276882077254\n",
      "VF_iter= 17 , VF_1_dist= 0.6588762131018968 , VF_2_dist= 0.6588219092307722\n",
      "VF_iter= 18 , VF_1_dist= 0.5336953680557698 , VF_2_dist= 0.5336731399767028\n",
      "VF_iter= 19 , VF_1_dist= 0.4322954355660524 , VF_2_dist= 0.432286338037458\n",
      "VF_iter= 20 , VF_1_dist= 0.35016015023917996 , VF_2_dist= 0.35015642720466056\n",
      "VF_iter= 21 , VF_1_dist= 0.2836300493079148 , VF_2_dist= 0.28362852587232185\n",
      "VF_iter= 22 , VF_1_dist= 0.22974046630490502 , VF_2_dist= 0.22973984299278133\n",
      "VF_iter= 23 , VF_1_dist= 0.1860898263256182 , VF_2_dist= 0.1860895713243001\n",
      "VF_iter= 24 , VF_1_dist= 0.1507327779776464 , VF_2_dist= 0.15073267366534082\n",
      "VF_iter= 25 , VF_1_dist= 0.12209355729685079 , VF_2_dist= 0.12209351463047236\n",
      "VF_iter= 26 , VF_1_dist= 0.09889578413005301 , VF_2_dist= 0.09889576668011252\n",
      "VF_iter= 27 , VF_1_dist= 0.08010558617791114 , VF_2_dist= 0.08010557904181113\n",
      "VF_iter= 28 , VF_1_dist= 0.06488552519440442 , VF_2_dist= 0.06488552227638997\n",
      "VF_iter= 29 , VF_1_dist= 0.052557275554241126 , VF_2_dist= 0.05255727436114801\n",
      "VF_iter= 30 , VF_1_dist= 0.04257139325380295 , VF_2_dist= 0.04257139276602521\n",
      "VF_iter= 31 , VF_1_dist= 0.03448282855594845 , VF_2_dist= 0.03448282835654542\n",
      "VF_iter= 32 , VF_1_dist= 0.027931091137817367 , VF_2_dist= 0.027931091056308453\n",
      "VF_iter= 33 , VF_1_dist= 0.022624183824364912 , VF_2_dist= 0.02262418379104999\n",
      "VF_iter= 34 , VF_1_dist= 0.018325588898719637 , VF_2_dist= 0.01832558888510373\n",
      "VF_iter= 35 , VF_1_dist= 0.014843727008311653 , VF_2_dist= 0.014843727002747237\n",
      "VF_iter= 36 , VF_1_dist= 0.012023418876853055 , VF_2_dist= 0.012023418874579597\n",
      "VF_iter= 37 , VF_1_dist= 0.009738969290291681 , VF_2_dist= 0.009738969289362898\n",
      "VF_iter= 38 , VF_1_dist= 0.007888565125149466 , VF_2_dist= 0.007888565124770033\n",
      "VF_iter= 39 , VF_1_dist= 0.0063897377513753946 , VF_2_dist= 0.006389737751220148\n",
      "VF_iter= 40 , VF_1_dist= 0.005175687578615123 , VF_2_dist= 0.005175687578551767\n",
      "VF_iter= 41 , VF_1_dist= 0.004192306938678336 , VF_2_dist= 0.004192306938652584\n",
      "VF_iter= 42 , VF_1_dist= 0.0033957686203293065 , VF_2_dist= 0.0033957686203188323\n",
      "VF_iter= 43 , VF_1_dist= 0.002750572582466764 , VF_2_dist= 0.002750572582462466\n",
      "VF_iter= 44 , VF_1_dist= 0.0022279637917980402 , VF_2_dist= 0.002227963791796235\n",
      "VF_iter= 45 , VF_1_dist= 0.0018046506713564824 , VF_2_dist= 0.001804650671355666\n",
      "VF_iter= 46 , VF_1_dist= 0.0014617670437987644 , VF_2_dist= 0.0014617670437984663\n",
      "VF_iter= 47 , VF_1_dist= 0.00118403130547701 , VF_2_dist= 0.0011840313054768713\n",
      "VF_iter= 48 , VF_1_dist= 0.0009590653574363254 , VF_2_dist= 0.0009590653574362827\n",
      "VF_iter= 49 , VF_1_dist= 0.0007768429395233154 , VF_2_dist= 0.0007768429395233923\n",
      "VF_iter= 50 , VF_1_dist= 0.0006292427810139441 , VF_2_dist= 0.0006292427810139409\n",
      "VF_iter= 51 , VF_1_dist= 0.0005096866526212296 , VF_2_dist= 0.0005096866526212523\n",
      "VF_iter= 52 , VF_1_dist= 0.00041284618862331616 , VF_2_dist= 0.00041284618862325224\n",
      "VF_iter= 53 , VF_1_dist= 0.00033440541278490627 , VF_2_dist= 0.000334405412784881\n",
      "VF_iter= 54 , VF_1_dist= 0.0002708683843556639 , VF_2_dist= 0.00027086838435573415\n",
      "VF_iter= 55 , VF_1_dist= 0.00021940339132810912 , VF_2_dist= 0.00021940339132810356\n",
      "VF_iter= 56 , VF_1_dist= 0.00017771674697580322 , VF_2_dist= 0.00017771674697577308\n",
      "VF_iter= 57 , VF_1_dist= 0.000143950565050383 , VF_2_dist= 0.00014395056505038146\n",
      "VF_iter= 58 , VF_1_dist= 0.00011659995769082053 , VF_2_dist= 0.00011659995769081646\n",
      "VF_iter= 59 , VF_1_dist= 9.444596572962848e-05 , VF_2_dist= 9.444596572958454e-05\n",
      "VF_iter= 60 , VF_1_dist= 7.650123224098193e-05 , VF_2_dist= 7.650123224098413e-05\n",
      "VF_iter= 61 , VF_1_dist= 6.19659981151555e-05 , VF_2_dist= 6.196599811517925e-05\n",
      "VF_iter= 62 , VF_1_dist= 5.0192458473305066e-05 , VF_2_dist= 5.019245847329972e-05\n",
      "VF_iter= 63 , VF_1_dist= 4.065589136336324e-05 , VF_2_dist= 4.065589136336484e-05\n",
      "VF_iter= 64 , VF_1_dist= 3.293127200431969e-05 , VF_2_dist= 3.293127200432762e-05\n",
      "VF_iter= 65 , VF_1_dist= 2.6674330323520743e-05 , VF_2_dist= 2.6674330323504527e-05\n",
      "VF_iter= 66 , VF_1_dist= 2.1606207562051686e-05 , VF_2_dist= 2.160620756204468e-05\n",
      "VF_iter= 67 , VF_1_dist= 1.750102812524274e-05 , VF_2_dist= 1.7501028125252196e-05\n",
      "VF_iter= 68 , VF_1_dist= 1.4175832781452814e-05 , VF_2_dist= 1.4175832781453759e-05\n",
      "VF_iter= 69 , VF_1_dist= 1.1482424552977077e-05 , VF_2_dist= 1.14824245529758e-05\n",
      "VF_iter= 70 , VF_1_dist= 9.300763887909017e-06 , VF_2_dist= 9.30076388791132e-06\n",
      "VF_iter= 71 , VF_1_dist= 7.5336187492085805e-06 , VF_2_dist= 7.533618749204788e-06\n",
      "VF_iter= 72 , VF_1_dist= 6.102231186858361e-06 , VF_2_dist= 6.102231186859291e-06\n",
      "VF_iter= 73 , VF_1_dist= 4.942807261357507e-06 , VF_2_dist= 4.942807261355273e-06\n",
      "VF_iter= 74 , VF_1_dist= 4.003673881703526e-06 , VF_2_dist= 4.003673881703024e-06\n",
      "VF_iter= 75 , VF_1_dist= 3.2429758441710568e-06 , VF_2_dist= 3.242975844180105e-06\n",
      "VF_iter= 76 , VF_1_dist= 2.6268104337838088e-06 , VF_2_dist= 2.6268104337789222e-06\n",
      "VF_iter= 77 , VF_1_dist= 2.1277164513552656e-06 , VF_2_dist= 2.1277164513614955e-06\n",
      "VF_iter= 78 , VF_1_dist= 1.7234503256019209e-06 , VF_2_dist= 1.7234503256007666e-06\n",
      "VF_iter= 79 , VF_1_dist= 1.3959947637443823e-06 , VF_2_dist= 1.3959947637385945e-06\n",
      "VF_iter= 80 , VF_1_dist= 1.130755758628048e-06 , VF_2_dist= 1.1307557586297845e-06\n",
      "VF_iter= 81 , VF_1_dist= 9.159121644869398e-07 , VF_2_dist= 9.159121644892239e-07\n",
      "VF_iter= 82 , VF_1_dist= 7.418888532348539e-07 , VF_2_dist= 7.418888532357195e-07\n",
      "VF_iter= 83 , VF_1_dist= 6.009299711212347e-07 , VF_2_dist= 6.009299711211373e-07\n",
      "VF_iter= 84 , VF_1_dist= 4.867532766083841e-07 , VF_2_dist= 4.86753276606982e-07\n",
      "VF_iter= 85 , VF_1_dist= 3.9427015405187624e-07 , VF_2_dist= 3.942701540519551e-07\n",
      "VF_iter= 86 , VF_1_dist= 3.1935882478089105e-07 , VF_2_dist= 3.193588247816719e-07\n",
      "VF_iter= 87 , VF_1_dist= 2.586806480736014e-07 , VF_2_dist= 2.5868064807309027e-07\n",
      "VF_iter= 88 , VF_1_dist= 2.0953132494013464e-07 , VF_2_dist= 2.095313249397322e-07\n",
      "VF_iter= 89 , VF_1_dist= 1.6972037320141593e-07 , VF_2_dist= 1.6972037320105364e-07\n",
      "VF_iter= 90 , VF_1_dist= 1.3747350229492594e-07 , VF_2_dist= 1.3747350229399452e-07\n",
      "VF_iter= 91 , VF_1_dist= 1.1135353685687808e-07 , VF_2_dist= 1.1135353685847086e-07\n",
      "VF_iter= 92 , VF_1_dist= 9.019636485434663e-08 , VF_2_dist= 9.019636485442208e-08\n",
      "VF_iter= 93 , VF_1_dist= 7.305905553242479e-08 , VF_2_dist= 7.305905553225504e-08\n",
      "VF_iter= 94 , VF_1_dist= 5.917783498087907e-08 , VF_2_dist= 5.917783498094018e-08\n",
      "VF_iter= 95 , VF_1_dist= 4.7934046334952064e-08 , VF_2_dist= 4.793404633486956e-08\n",
      "VF_iter= 96 , VF_1_dist= 3.8826577530675097e-08 , VF_2_dist= 3.8826577530774094e-08\n",
      "VF_iter= 97 , VF_1_dist= 3.1449527799955966e-08 , VF_2_dist= 3.144952780011189e-08\n",
      "VF_iter= 98 , VF_1_dist= 2.5474117518070587e-08 , VF_2_dist= 2.5474117518010438e-08\n",
      "VF_iter= 99 , VF_1_dist= 2.0634035189611914e-08 , VF_2_dist= 2.063403518941344e-08\n",
      "VF_iter= 100 , VF_1_dist= 1.6713568503497958e-08 , VF_2_dist= 1.6713568503546676e-08\n",
      "VF_iter= 101 , VF_1_dist= 1.3537990487853811e-08 , VF_2_dist= 1.3537990487766122e-08\n",
      "VF_iter= 102 , VF_1_dist= 1.0965772295699558e-08 , VF_2_dist= 1.0965772295357573e-08\n"
     ]
    },
    {
     "name": "stdout",
     "output_type": "stream",
     "text": [
      "VF_iter= 103 , VF_1_dist= 8.882275559595954e-09 , VF_2_dist= 8.882275559536765e-09\n"
     ]
    }
   ],
   "source": [
    "V_new = init_guess.copy()\n",
    "VF_iter = 0\n",
    "VF_1_dist = 10\n",
    "VF_2_dist = 10\n",
    "VF_maxiter = 2000\n",
    "VF_mindist = 1e-8\n",
    "beta = .9\n",
    "psi_grid = np.zeros(V_new.shape)\n",
    "\n",
    "\n",
    "while (VF_iter < VF_maxiter) and ((VF_1_dist > VF_mindist)  or (VF_2_dist > VF_mindist)):\n",
    "    VF_iter += 1\n",
    "    V_init = V_new.copy()\n",
    "    V_new = np.zeros(V_init.shape)\n",
    "    for k_ind in range(len(cap_grid)):\n",
    "        val_1_grid = np.zeros(len(cap_grid))\n",
    "        val_2_grid = np.zeros(len(cap_grid))\n",
    "        k_init = cap_grid[k_ind]\n",
    "        \n",
    "        for k_test in range(len(cap_grid)):\n",
    "            v_args = (k_init, util, V_init, beta, k_test)\n",
    "            val_1 = val_func_1(cap_grid[k_test], *v_args)\n",
    "            val_2 = val_func_2(cap_grid[k_test], *v_args)\n",
    "            val_1_grid[k_test] = val_1\n",
    "            val_2_grid[k_test] = val_2\n",
    "        V_new[0, k_ind] = np.max(val_1_grid)\n",
    "        V_new[1, k_ind] = np.max(val_2_grid)\n",
    "        psi_grid[0, k_ind] = cap_grid[np.argmax(val_1_grid)]\n",
    "        psi_grid[1, k_ind] = cap_grid[np.argmax(val_2_grid)]\n",
    "    \n",
    "    VF_1_dist = ((V_init[0] - V_new[0]) ** 2).sum()\n",
    "    VF_2_dist = ((V_init[1] - V_new[1]) ** 2).sum()\n",
    "    \n",
    "    print('VF_iter=', VF_iter, ', VF_1_dist=', VF_1_dist, ', VF_2_dist=', VF_2_dist)\n"
   ]
  },
  {
   "cell_type": "code",
   "execution_count": 58,
   "metadata": {},
   "outputs": [
    {
     "data": {
      "text/plain": [
       "[<matplotlib.lines.Line2D at 0x1316013668>]"
      ]
     },
     "execution_count": 58,
     "metadata": {},
     "output_type": "execute_result"
    },
    {
     "data": {
      "image/png": "[encoded data removed]",
      "text/plain": [
       "<Figure size 432x288 with 1 Axes>"
      ]
     },
     "metadata": {},
     "output_type": "display_data"
    }
   ],
   "source": [
    "##Plots of the Value Functions:\n",
    "plt.plot(cap_grid, V_new[0,:])\n",
    "plt.plot(cap_grid, V_new[1,:])"
   ]
  },
  {
   "cell_type": "code",
   "execution_count": 59,
   "metadata": {},
   "outputs": [
    {
     "data": {
      "text/plain": [
       "[<matplotlib.lines.Line2D at 0x1316013400>]"
      ]
     },
     "execution_count": 59,
     "metadata": {},
     "output_type": "execute_result"
    },
    {
     "data": {
      "image/png": "[encoded data removed]",
      "text/plain": [
       "<Figure size 432x288 with 1 Axes>"
      ]
     },
     "metadata": {},
     "output_type": "display_data"
    }
   ],
   "source": [
    "##Plots of the Policy Functions:\n",
    "plt.plot(cap_grid, psi_grid[0,:])\n",
    "plt.plot(cap_grid, psi_grid[1,:])"
   ]
  },
  {
   "cell_type": "markdown",
   "metadata": {},
   "source": [
    "Now we repeat for 500 points on the capital grid to get smoother policy functions."
   ]
  },
  {
   "cell_type": "code",
   "execution_count": 60,
   "metadata": {},
   "outputs": [
    {
     "name": "stdout",
     "output_type": "stream",
     "text": [
      "[[0.00995033 0.02957826 0.04882834 0.06771483 0.08625124 0.10445028\n",
      "  0.12232403 0.13988392 0.15714077 0.17410486 0.19078597 0.20719337\n",
      "  0.22333592 0.23922201 0.25485968 0.27025658 0.28542    0.30035692\n",
      "  0.31507401 0.32957764 0.34387392 0.3579687  0.37186757 0.3855759\n",
      "  0.39909886 0.41244139 0.42560823 0.43860396 0.45143296 0.46409946\n",
      "  0.47660753 0.48896107 0.50116387 0.51321955 0.52513162 0.53690346\n",
      "  0.54853834 0.5600394  0.57140969 0.58265215 0.59376962 0.60476485\n",
      "  0.6156405  0.62639914 0.63704326 0.64757528 0.65799753 0.66831227\n",
      "  0.67852171 0.68862797 0.69863311 0.70853914 0.718348   0.72806158\n",
      "  0.73768171 0.74721018 0.75664872 0.765999   0.77526266 0.78444129\n",
      "  0.79353644 0.80254962 0.81148228 0.82033586 0.82911173 0.83781126\n",
      "  0.84643577 0.85498652 0.86346478 0.87187176 0.88020866 0.88847662\n",
      "  0.89667678 0.90481025 0.9128781  0.92088138 0.92882112 0.93669831\n",
      "  0.94451393 0.95226895 0.95996429 0.96760086 0.97517956 0.98270125\n",
      "  0.99016678 0.997577   1.00493271 1.01223471 1.01948377 1.02668066\n",
      "  1.03382613 1.0409209  1.04796569 1.0549612  1.06190811 1.0688071\n",
      "  1.07565881 1.0824639  1.08922299 1.0959367  1.10260564 1.1092304\n",
      "  1.11581156 1.12234969 1.12884535 1.13529909 1.14171145 1.14808295\n",
      "  1.15441411 1.16070544 1.16695743 1.17317058 1.17934537 1.18548226\n",
      "  1.19158172 1.1976442  1.20367015 1.20966001 1.2156142  1.22153315\n",
      "  1.22741727 1.23326696 1.23908264 1.2448647  1.25061351 1.25632946\n",
      "  1.26201293 1.26766427 1.27328386 1.27887205 1.28442918 1.2899556\n",
      "  1.29545164 1.30091765 1.30635394 1.31176083 1.31713865 1.3224877\n",
      "  1.3278083  1.33310073 1.3383653  1.3436023  1.34881202 1.35399473\n",
      "  1.35915073 1.36428027 1.36938364 1.3744611  1.3795129  1.38453931\n",
      "  1.38954059 1.39451698 1.39946872 1.40439607 1.40929925 1.41417851\n",
      "  1.41903408 1.42386619 1.42867506 1.43346092 1.43822398 1.44296446\n",
      "  1.44768257 1.45237853 1.45705254 1.46170481 1.46633553 1.4709449\n",
      "  1.47553313 1.4801004  1.48464691 1.48917284 1.49367838 1.49816371\n",
      "  1.50262901 1.50707446 1.51150024 1.51590651 1.52029345 1.52466124\n",
      "  1.52901003 1.53333999 1.53765128 1.54194406 1.54621849 1.55047474\n",
      "  1.55471294 1.55893325 1.56313583 1.56732082 1.57148837 1.57563863\n",
      "  1.57977173 1.58388782 1.58798703 1.59206951 1.5961354  1.60018481\n",
      "  1.6042179  1.60823478 1.6122356  1.61622047 1.62018953 1.62414289\n",
      "  1.62808069 1.63200304 1.63591006 1.63980188 1.64367862 1.64754038\n",
      "  1.65138729 1.65521945 1.65903699 1.66284    1.66662861 1.67040292\n",
      "  1.67416304 1.67790907 1.68164112 1.6853593  1.6890637  1.69275443\n",
      "  1.69643159 1.70009527 1.70374559 1.70738262 1.71100648 1.71461725\n",
      "  1.71821503 1.72179991 1.72537199 1.72893135 1.73247809 1.7360123\n",
      "  1.73953405 1.74304345 1.74654058 1.75002551 1.75349835 1.75695917\n",
      "  1.76040805 1.76384507 1.76727033 1.77068389 1.77408584 1.77747625\n",
      "  1.78085521 1.78422279 1.78757907 1.79092412 1.79425802 1.79758084\n",
      "  1.80089265 1.80419353 1.80748356 1.81076279 1.81403131 1.81728918\n",
      "  1.82053647 1.82377325 1.82699958 1.83021554 1.83342119 1.8366166\n",
      "  1.83980183 1.84297694 1.84614201 1.84929709 1.85244224 1.85557754\n",
      "  1.85870304 1.86181879 1.86492487 1.86802134 1.87110824 1.87418565\n",
      "  1.87725361 1.88031219 1.88336144 1.88640142 1.88943219 1.8924538\n",
      "  1.89546631 1.89846977 1.90146424 1.90444977 1.90742641 1.91039422\n",
      "  1.91335324 1.91630354 1.91924515 1.92217814 1.92510255 1.92801843\n",
      "  1.93092584 1.93382482 1.93671542 1.93959768 1.94247166 1.94533741\n",
      "  1.94819497 1.95104438 1.9538857  1.95671897 1.95954424 1.96236154\n",
      "  1.96517093 1.96797245 1.97076614 1.97355205 1.97633022 1.97910069\n",
      "  1.98186351 1.98461872 1.98736635 1.99010646 1.99283908 1.99556425\n",
      "  1.99828202 2.00099242 2.00369549 2.00639128 2.00907982 2.01176115\n",
      "  2.01443531 2.01710234 2.01976227 2.02241515 2.02506101 2.02769988\n",
      "  2.03033181 2.03295683 2.03557498 2.0381863  2.04079081 2.04338855\n",
      "  2.04597957 2.04856388 2.05114154 2.05371257 2.05627701 2.05883488\n",
      "  2.06138623 2.06393109 2.06646949 2.06900146 2.07152704 2.07404625\n",
      "  2.07655914 2.07906572 2.08156604 2.08406012 2.08654799 2.0890297\n",
      "  2.09150526 2.0939747  2.09643806 2.09889537 2.10134666 2.10379195\n",
      "  2.10623127 2.10866466 2.11109215 2.11351375 2.11592951 2.11833944\n",
      "  2.12074358 2.12314195 2.12553459 2.12792151 2.13030275 2.13267834\n",
      "  2.13504829 2.13741264 2.13977141 2.14212464 2.14447233 2.14681453\n",
      "  2.14915126 2.15148254 2.15380839 2.15612885 2.15844394 2.16075368\n",
      "  2.16305809 2.16535721 2.16765106 2.16993965 2.17222302 2.17450119\n",
      "  2.17677418 2.17904201 2.18130472 2.18356231 2.18581482 2.18806227\n",
      "  2.19030468 2.19254207 2.19477446 2.19700188 2.19922436 2.2014419\n",
      "  2.20365454 2.20586229 2.20806518 2.21026323 2.21245646 2.21464488\n",
      "  2.21682853 2.21900742 2.22118157 2.22335101 2.22551575 2.22767581\n",
      "  2.22983122 2.23198199 2.23412815 2.23626971 2.23840669 2.24053912\n",
      "  2.24266701 2.24479038 2.24690925 2.24902364 2.25113357 2.25323906\n",
      "  2.25534013 2.25743679 2.25952906 2.26161696 2.26370052 2.26577974\n",
      "  2.26785464 2.26992526 2.27199159 2.27405366 2.27611149 2.27816509\n",
      "  2.28021448 2.28225968 2.28430071 2.28633758 2.28837031 2.29039892\n",
      "  2.29242342 2.29444383 2.29646016 2.29847244 2.30048068 2.30248489\n",
      "  2.30448509 2.3064813  2.30847353 2.31046181 2.31244613 2.31442653\n",
      "  2.31640301 2.3183756  2.3203443  2.32230913 2.32427011 2.32622725\n",
      "  2.32818057 2.33013008 2.3320758  2.33401773 2.33595591 2.33789034\n",
      "  2.33982103 2.341748   2.34367126 2.34559083 2.34750673 2.34941896\n",
      "  2.35132754 2.35323249 2.35513381 2.35703153 2.35892565 2.36081619\n",
      "  2.36270316 2.36458658 2.36646646 2.36834281 2.37021565 2.37208498\n",
      "  2.37395083 2.3758132  2.37767212 2.37952758 2.3813796  2.38322821\n",
      "  2.3850734  2.38691519 2.3887536  2.39058863 2.3924203  2.39424862\n",
      "  2.39607361 2.39789527]\n",
      " [0.00995033 0.02957826 0.04882834 0.06771483 0.08625124 0.10445028\n",
      "  0.12232403 0.13988392 0.15714077 0.17410486 0.19078597 0.20719337\n",
      "  0.22333592 0.23922201 0.25485968 0.27025658 0.28542    0.30035692\n",
      "  0.31507401 0.32957764 0.34387392 0.3579687  0.37186757 0.3855759\n",
      "  0.39909886 0.41244139 0.42560823 0.43860396 0.45143296 0.46409946\n",
      "  0.47660753 0.48896107 0.50116387 0.51321955 0.52513162 0.53690346\n",
      "  0.54853834 0.5600394  0.57140969 0.58265215 0.59376962 0.60476485\n",
      "  0.6156405  0.62639914 0.63704326 0.64757528 0.65799753 0.66831227\n",
      "  0.67852171 0.68862797 0.69863311 0.70853914 0.718348   0.72806158\n",
      "  0.73768171 0.74721018 0.75664872 0.765999   0.77526266 0.78444129\n",
      "  0.79353644 0.80254962 0.81148228 0.82033586 0.82911173 0.83781126\n",
      "  0.84643577 0.85498652 0.86346478 0.87187176 0.88020866 0.88847662\n",
      "  0.89667678 0.90481025 0.9128781  0.92088138 0.92882112 0.93669831\n",
      "  0.94451393 0.95226895 0.95996429 0.96760086 0.97517956 0.98270125\n",
      "  0.99016678 0.997577   1.00493271 1.01223471 1.01948377 1.02668066\n",
      "  1.03382613 1.0409209  1.04796569 1.0549612  1.06190811 1.0688071\n",
      "  1.07565881 1.0824639  1.08922299 1.0959367  1.10260564 1.1092304\n",
      "  1.11581156 1.12234969 1.12884535 1.13529909 1.14171145 1.14808295\n",
      "  1.15441411 1.16070544 1.16695743 1.17317058 1.17934537 1.18548226\n",
      "  1.19158172 1.1976442  1.20367015 1.20966001 1.2156142  1.22153315\n",
      "  1.22741727 1.23326696 1.23908264 1.2448647  1.25061351 1.25632946\n",
      "  1.26201293 1.26766427 1.27328386 1.27887205 1.28442918 1.2899556\n",
      "  1.29545164 1.30091765 1.30635394 1.31176083 1.31713865 1.3224877\n",
      "  1.3278083  1.33310073 1.3383653  1.3436023  1.34881202 1.35399473\n",
      "  1.35915073 1.36428027 1.36938364 1.3744611  1.3795129  1.38453931\n",
      "  1.38954059 1.39451698 1.39946872 1.40439607 1.40929925 1.41417851\n",
      "  1.41903408 1.42386619 1.42867506 1.43346092 1.43822398 1.44296446\n",
      "  1.44768257 1.45237853 1.45705254 1.46170481 1.46633553 1.4709449\n",
      "  1.47553313 1.4801004  1.48464691 1.48917284 1.49367838 1.49816371\n",
      "  1.50262901 1.50707446 1.51150024 1.51590651 1.52029345 1.52466124\n",
      "  1.52901003 1.53333999 1.53765128 1.54194406 1.54621849 1.55047474\n",
      "  1.55471294 1.55893325 1.56313583 1.56732082 1.57148837 1.57563863\n",
      "  1.57977173 1.58388782 1.58798703 1.59206951 1.5961354  1.60018481\n",
      "  1.6042179  1.60823478 1.6122356  1.61622047 1.62018953 1.62414289\n",
      "  1.62808069 1.63200304 1.63591006 1.63980188 1.64367862 1.64754038\n",
      "  1.65138729 1.65521945 1.65903699 1.66284    1.66662861 1.67040292\n",
      "  1.67416304 1.67790907 1.68164112 1.6853593  1.6890637  1.69275443\n",
      "  1.69643159 1.70009527 1.70374559 1.70738262 1.71100648 1.71461725\n",
      "  1.71821503 1.72179991 1.72537199 1.72893135 1.73247809 1.7360123\n",
      "  1.73953405 1.74304345 1.74654058 1.75002551 1.75349835 1.75695917\n",
      "  1.76040805 1.76384507 1.76727033 1.77068389 1.77408584 1.77747625\n",
      "  1.78085521 1.78422279 1.78757907 1.79092412 1.79425802 1.79758084\n",
      "  1.80089265 1.80419353 1.80748356 1.81076279 1.81403131 1.81728918\n",
      "  1.82053647 1.82377325 1.82699958 1.83021554 1.83342119 1.8366166\n",
      "  1.83980183 1.84297694 1.84614201 1.84929709 1.85244224 1.85557754\n",
      "  1.85870304 1.86181879 1.86492487 1.86802134 1.87110824 1.87418565\n",
      "  1.87725361 1.88031219 1.88336144 1.88640142 1.88943219 1.8924538\n",
      "  1.89546631 1.89846977 1.90146424 1.90444977 1.90742641 1.91039422\n",
      "  1.91335324 1.91630354 1.91924515 1.92217814 1.92510255 1.92801843\n",
      "  1.93092584 1.93382482 1.93671542 1.93959768 1.94247166 1.94533741\n",
      "  1.94819497 1.95104438 1.9538857  1.95671897 1.95954424 1.96236154\n",
      "  1.96517093 1.96797245 1.97076614 1.97355205 1.97633022 1.97910069\n",
      "  1.98186351 1.98461872 1.98736635 1.99010646 1.99283908 1.99556425\n",
      "  1.99828202 2.00099242 2.00369549 2.00639128 2.00907982 2.01176115\n",
      "  2.01443531 2.01710234 2.01976227 2.02241515 2.02506101 2.02769988\n",
      "  2.03033181 2.03295683 2.03557498 2.0381863  2.04079081 2.04338855\n",
      "  2.04597957 2.04856388 2.05114154 2.05371257 2.05627701 2.05883488\n",
      "  2.06138623 2.06393109 2.06646949 2.06900146 2.07152704 2.07404625\n",
      "  2.07655914 2.07906572 2.08156604 2.08406012 2.08654799 2.0890297\n",
      "  2.09150526 2.0939747  2.09643806 2.09889537 2.10134666 2.10379195\n",
      "  2.10623127 2.10866466 2.11109215 2.11351375 2.11592951 2.11833944\n",
      "  2.12074358 2.12314195 2.12553459 2.12792151 2.13030275 2.13267834\n",
      "  2.13504829 2.13741264 2.13977141 2.14212464 2.14447233 2.14681453\n",
      "  2.14915126 2.15148254 2.15380839 2.15612885 2.15844394 2.16075368\n",
      "  2.16305809 2.16535721 2.16765106 2.16993965 2.17222302 2.17450119\n",
      "  2.17677418 2.17904201 2.18130472 2.18356231 2.18581482 2.18806227\n",
      "  2.19030468 2.19254207 2.19477446 2.19700188 2.19922436 2.2014419\n",
      "  2.20365454 2.20586229 2.20806518 2.21026323 2.21245646 2.21464488\n",
      "  2.21682853 2.21900742 2.22118157 2.22335101 2.22551575 2.22767581\n",
      "  2.22983122 2.23198199 2.23412815 2.23626971 2.23840669 2.24053912\n",
      "  2.24266701 2.24479038 2.24690925 2.24902364 2.25113357 2.25323906\n",
      "  2.25534013 2.25743679 2.25952906 2.26161696 2.26370052 2.26577974\n",
      "  2.26785464 2.26992526 2.27199159 2.27405366 2.27611149 2.27816509\n",
      "  2.28021448 2.28225968 2.28430071 2.28633758 2.28837031 2.29039892\n",
      "  2.29242342 2.29444383 2.29646016 2.29847244 2.30048068 2.30248489\n",
      "  2.30448509 2.3064813  2.30847353 2.31046181 2.31244613 2.31442653\n",
      "  2.31640301 2.3183756  2.3203443  2.32230913 2.32427011 2.32622725\n",
      "  2.32818057 2.33013008 2.3320758  2.33401773 2.33595591 2.33789034\n",
      "  2.33982103 2.341748   2.34367126 2.34559083 2.34750673 2.34941896\n",
      "  2.35132754 2.35323249 2.35513381 2.35703153 2.35892565 2.36081619\n",
      "  2.36270316 2.36458658 2.36646646 2.36834281 2.37021565 2.37208498\n",
      "  2.37395083 2.3758132  2.37767212 2.37952758 2.3813796  2.38322821\n",
      "  2.3850734  2.38691519 2.3887536  2.39058863 2.3924203  2.39424862\n",
      "  2.39607361 2.39789527]]\n",
      "[ 0.01        0.03002004  0.05004008  0.07006012  0.09008016  0.1101002\n",
      "  0.13012024  0.15014028  0.17016032  0.19018036  0.2102004   0.23022044\n",
      "  0.25024048  0.27026052  0.29028056  0.3103006   0.33032064  0.35034068\n",
      "  0.37036072  0.39038076  0.4104008   0.43042084  0.45044088  0.47046092\n",
      "  0.49048096  0.510501    0.53052104  0.55054108  0.57056112  0.59058116\n",
      "  0.6106012   0.63062124  0.65064128  0.67066132  0.69068136  0.7107014\n",
      "  0.73072144  0.75074148  0.77076152  0.79078156  0.8108016   0.83082164\n",
      "  0.85084168  0.87086172  0.89088176  0.9109018   0.93092184  0.95094188\n",
      "  0.97096192  0.99098196  1.011002    1.03102204  1.05104208  1.07106212\n",
      "  1.09108216  1.1111022   1.13112224  1.15114228  1.17116232  1.19118236\n",
      "  1.2112024   1.23122244  1.25124248  1.27126253  1.29128257  1.31130261\n",
      "  1.33132265  1.35134269  1.37136273  1.39138277  1.41140281  1.43142285\n",
      "  1.45144289  1.47146293  1.49148297  1.51150301  1.53152305  1.55154309\n",
      "  1.57156313  1.59158317  1.61160321  1.63162325  1.65164329  1.67166333\n",
      "  1.69168337  1.71170341  1.73172345  1.75174349  1.77176353  1.79178357\n",
      "  1.81180361  1.83182365  1.85184369  1.87186373  1.89188377  1.91190381\n",
      "  1.93192385  1.95194389  1.97196393  1.99198397  2.01200401  2.03202405\n",
      "  2.05204409  2.07206413  2.09208417  2.11210421  2.13212425  2.15214429\n",
      "  2.17216433  2.19218437  2.21220441  2.23222445  2.25224449  2.27226453\n",
      "  2.29228457  2.31230461  2.33232465  2.35234469  2.37236473  2.39238477\n",
      "  2.41240481  2.43242485  2.45244489  2.47246493  2.49248497  2.51250501\n",
      "  2.53252505  2.55254509  2.57256513  2.59258517  2.61260521  2.63262525\n",
      "  2.65264529  2.67266533  2.69268537  2.71270541  2.73272545  2.75274549\n",
      "  2.77276553  2.79278557  2.81280561  2.83282565  2.85284569  2.87286573\n",
      "  2.89288577  2.91290581  2.93292585  2.95294589  2.97296593  2.99298597\n",
      "  3.01300601  3.03302605  3.05304609  3.07306613  3.09308617  3.11310621\n",
      "  3.13312625  3.15314629  3.17316633  3.19318637  3.21320641  3.23322645\n",
      "  3.25324649  3.27326653  3.29328657  3.31330661  3.33332665  3.35334669\n",
      "  3.37336673  3.39338677  3.41340681  3.43342685  3.45344689  3.47346693\n",
      "  3.49348697  3.51350701  3.53352705  3.55354709  3.57356713  3.59358717\n",
      "  3.61360721  3.63362725  3.65364729  3.67366733  3.69368737  3.71370741\n",
      "  3.73372745  3.75374749  3.77376754  3.79378758  3.81380762  3.83382766\n",
      "  3.8538477   3.87386774  3.89388778  3.91390782  3.93392786  3.9539479\n",
      "  3.97396794  3.99398798  4.01400802  4.03402806  4.0540481   4.07406814\n",
      "  4.09408818  4.11410822  4.13412826  4.1541483   4.17416834  4.19418838\n",
      "  4.21420842  4.23422846  4.2542485   4.27426854  4.29428858  4.31430862\n",
      "  4.33432866  4.3543487   4.37436874  4.39438878  4.41440882  4.43442886\n",
      "  4.4544489   4.47446894  4.49448898  4.51450902  4.53452906  4.5545491\n",
      "  4.57456914  4.59458918  4.61460922  4.63462926  4.6546493   4.67466934\n",
      "  4.69468938  4.71470942  4.73472946  4.7547495   4.77476954  4.79478958\n",
      "  4.81480962  4.83482966  4.8548497   4.87486974  4.89488978  4.91490982\n",
      "  4.93492986  4.9549499   4.97496994  4.99498998  5.01501002  5.03503006\n",
      "  5.0550501   5.07507014  5.09509018  5.11511022  5.13513026  5.1551503\n",
      "  5.17517034  5.19519038  5.21521042  5.23523046  5.2552505   5.27527054\n",
      "  5.29529058  5.31531062  5.33533066  5.3553507   5.37537074  5.39539078\n",
      "  5.41541082  5.43543086  5.4554509   5.47547094  5.49549098  5.51551102\n",
      "  5.53553106  5.5555511   5.57557114  5.59559118  5.61561122  5.63563126\n",
      "  5.6556513   5.67567134  5.69569138  5.71571142  5.73573146  5.7557515\n",
      "  5.77577154  5.79579158  5.81581162  5.83583166  5.8558517   5.87587174\n",
      "  5.89589178  5.91591182  5.93593186  5.9559519   5.97597194  5.99599198\n",
      "  6.01601202  6.03603206  6.0560521   6.07607214  6.09609218  6.11611222\n",
      "  6.13613226  6.1561523   6.17617234  6.19619238  6.21621242  6.23623246\n",
      "  6.25625251  6.27627255  6.29629259  6.31631263  6.33633267  6.35635271\n",
      "  6.37637275  6.39639279  6.41641283  6.43643287  6.45645291  6.47647295\n",
      "  6.49649299  6.51651303  6.53653307  6.55655311  6.57657315  6.59659319\n",
      "  6.61661323  6.63663327  6.65665331  6.67667335  6.69669339  6.71671343\n",
      "  6.73673347  6.75675351  6.77677355  6.79679359  6.81681363  6.83683367\n",
      "  6.85685371  6.87687375  6.89689379  6.91691383  6.93693387  6.95695391\n",
      "  6.97697395  6.99699399  7.01701403  7.03703407  7.05705411  7.07707415\n",
      "  7.09709419  7.11711423  7.13713427  7.15715431  7.17717435  7.19719439\n",
      "  7.21721443  7.23723447  7.25725451  7.27727455  7.29729459  7.31731463\n",
      "  7.33733467  7.35735471  7.37737475  7.39739479  7.41741483  7.43743487\n",
      "  7.45745491  7.47747495  7.49749499  7.51751503  7.53753507  7.55755511\n",
      "  7.57757515  7.59759519  7.61761523  7.63763527  7.65765531  7.67767535\n",
      "  7.69769539  7.71771543  7.73773547  7.75775551  7.77777555  7.79779559\n",
      "  7.81781563  7.83783567  7.85785571  7.87787575  7.89789579  7.91791583\n",
      "  7.93793587  7.95795591  7.97797595  7.99799599  8.01801603  8.03803607\n",
      "  8.05805611  8.07807615  8.09809619  8.11811623  8.13813627  8.15815631\n",
      "  8.17817635  8.19819639  8.21821643  8.23823647  8.25825651  8.27827655\n",
      "  8.29829659  8.31831663  8.33833667  8.35835671  8.37837675  8.39839679\n",
      "  8.41841683  8.43843687  8.45845691  8.47847695  8.49849699  8.51851703\n",
      "  8.53853707  8.55855711  8.57857715  8.59859719  8.61861723  8.63863727\n",
      "  8.65865731  8.67867735  8.69869739  8.71871743  8.73873747  8.75875752\n",
      "  8.77877756  8.7987976   8.81881764  8.83883768  8.85885772  8.87887776\n",
      "  8.8988978   8.91891784  8.93893788  8.95895792  8.97897796  8.998998\n",
      "  9.01901804  9.03903808  9.05905812  9.07907816  9.0990982   9.11911824\n",
      "  9.13913828  9.15915832  9.17917836  9.1991984   9.21921844  9.23923848\n",
      "  9.25925852  9.27927856  9.2992986   9.31931864  9.33933868  9.35935872\n",
      "  9.37937876  9.3993988   9.41941884  9.43943888  9.45945892  9.47947896\n",
      "  9.499499    9.51951904  9.53953908  9.55955912  9.57957916  9.5995992\n",
      "  9.61961924  9.63963928  9.65965932  9.67967936  9.6996994   9.71971944\n",
      "  9.73973948  9.75975952  9.77977956  9.7997996   9.81981964  9.83983968\n",
      "  9.85985972  9.87987976  9.8998998   9.91991984  9.93993988  9.95995992\n",
      "  9.97997996 10.        ]\n"
     ]
    },
    {
     "name": "stdout",
     "output_type": "stream",
     "text": [
      "VF_iter= 1 , VF_1_dist= 121.1563720606771 , VF_2_dist= 237.85734451650688\n",
      "VF_iter= 2 , VF_1_dist= 37.90236709624799 , VF_2_dist= 15.527667242047114\n",
      "VF_iter= 3 , VF_1_dist= 53.2993827047773 , VF_2_dist= 26.434076020657493\n",
      "VF_iter= 4 , VF_1_dist= 61.75998264449562 , VF_2_dist= 38.90229960423915\n",
      "VF_iter= 5 , VF_1_dist= 61.33058008319174 , VF_2_dist= 46.312644607950205\n",
      "VF_iter= 6 , VF_1_dist= 55.54236991279736 , VF_2_dist= 47.204638575044314\n",
      "VF_iter= 7 , VF_1_dist= 47.82016240034319 , VF_2_dist= 43.617859350085084\n",
      "VF_iter= 8 , VF_1_dist= 40.045159149704496 , VF_2_dist= 38.04567515078571\n",
      "VF_iter= 9 , VF_1_dist= 33.036264708641326 , VF_2_dist= 32.110888210557576\n",
      "VF_iter= 10 , VF_1_dist= 27.026919536431336 , VF_2_dist= 26.608659859199747\n",
      "VF_iter= 11 , VF_1_dist= 22.013673979408978 , VF_2_dist= 21.824545619297858\n",
      "VF_iter= 12 , VF_1_dist= 17.8844265313668 , VF_2_dist= 17.800415542206288\n",
      "VF_iter= 13 , VF_1_dist= 14.509829875138422 , VF_2_dist= 14.472272233680888\n",
      "VF_iter= 14 , VF_1_dist= 11.763461356253517 , VF_2_dist= 11.746924496466821\n",
      "VF_iter= 15 , VF_1_dist= 9.532915363464785 , VF_2_dist= 9.52578847115453\n",
      "VF_iter= 16 , VF_1_dist= 7.723649554581804 , VF_2_dist= 7.720492889243598\n",
      "VF_iter= 17 , VF_1_dist= 6.25702675576467 , VF_2_dist= 6.255631015706663\n",
      "VF_iter= 18 , VF_1_dist= 5.068570344250659 , VF_2_dist= 5.067961445692787\n",
      "VF_iter= 19 , VF_1_dist= 4.1057157346158615 , VF_2_dist= 4.1054439315700915\n",
      "VF_iter= 20 , VF_1_dist= 3.325711437090563 , VF_2_dist= 3.3255879208613845\n",
      "VF_iter= 21 , VF_1_dist= 2.693862653684241 , VF_2_dist= 2.69380657217498\n",
      "VF_iter= 22 , VF_1_dist= 2.1820455528390825 , VF_2_dist= 2.18201903560164\n",
      "VF_iter= 23 , VF_1_dist= 1.7674645508921243 , VF_2_dist= 1.7674524721382605\n",
      "VF_iter= 24 , VF_1_dist= 1.4316497962249835 , VF_2_dist= 1.4316441630030976\n",
      "VF_iter= 25 , VF_1_dist= 1.1596379334674776 , VF_2_dist= 1.15963532790134\n",
      "VF_iter= 26 , VF_1_dist= 0.9393074798173354 , VF_2_dist= 0.9393063064365239\n",
      "VF_iter= 27 , VF_1_dist= 0.760839402589457 , VF_2_dist= 0.7608388682287014\n",
      "VF_iter= 28 , VF_1_dist= 0.6162800694058175 , VF_2_dist= 0.6162798295252966\n",
      "VF_iter= 29 , VF_1_dist= 0.4991869250628228 , VF_2_dist= 0.4991868175918278\n",
      "VF_iter= 30 , VF_1_dist= 0.4043414391356071 , VF_2_dist= 0.40434139083096976\n",
      "VF_iter= 31 , VF_1_dist= 0.3275165789672485 , VF_2_dist= 0.32751655756591397\n",
      "VF_iter= 32 , VF_1_dist= 0.2652884349731539 , VF_2_dist= 0.26528842545922604\n",
      "VF_iter= 33 , VF_1_dist= 0.21488363502455493 , VF_2_dist= 0.2148836307251926\n",
      "VF_iter= 34 , VF_1_dist= 0.17405574557488046 , VF_2_dist= 0.17405574365465792\n",
      "VF_iter= 35 , VF_1_dist= 0.14098515446316606 , VF_2_dist= 0.14098515359431485\n",
      "VF_iter= 36 , VF_1_dist= 0.11419797536102154 , VF_2_dist= 0.1141979749682493\n",
      "VF_iter= 37 , VF_1_dist= 0.09250036015274282 , VF_2_dist= 0.0925003599758939\n",
      "VF_iter= 38 , VF_1_dist= 0.07492529177374732 , VF_2_dist= 0.07492529169351084\n",
      "VF_iter= 39 , VF_1_dist= 0.060689486359435496 , VF_2_dist= 0.06068948632329231\n",
      "VF_iter= 40 , VF_1_dist= 0.04915848396135579 , VF_2_dist= 0.049158483945069914\n",
      "VF_iter= 41 , VF_1_dist= 0.03981837201330026 , VF_2_dist= 0.03981837200594786\n",
      "VF_iter= 42 , VF_1_dist= 0.03225288133285274 , VF_2_dist= 0.03225288132955125\n",
      "VF_iter= 43 , VF_1_dist= 0.026124833880535353 , VF_2_dist= 0.026124833879051\n",
      "VF_iter= 44 , VF_1_dist= 0.02116111544364834 , VF_2_dist= 0.02116111544298272\n",
      "VF_iter= 45 , VF_1_dist= 0.017140503509542916 , VF_2_dist= 0.017140503509244856\n",
      "VF_iter= 46 , VF_1_dist= 0.013883807842813106 , VF_2_dist= 0.013883807842679122\n",
      "VF_iter= 47 , VF_1_dist= 0.011245884352715873 , VF_2_dist= 0.011245884352656173\n",
      "VF_iter= 48 , VF_1_dist= 0.00910916632571684 , VF_2_dist= 0.009109166325690055\n",
      "VF_iter= 49 , VF_1_dist= 0.007378424723838035 , VF_2_dist= 0.0073784247238259425\n",
      "VF_iter= 50 , VF_1_dist= 0.005976524026312043 , VF_2_dist= 0.005976524026306703\n",
      "VF_iter= 51 , VF_1_dist= 0.004840984461314575 , VF_2_dist= 0.0048409844613119726\n",
      "VF_iter= 52 , VF_1_dist= 0.003921197413665315 , VF_2_dist= 0.003921197413664174\n",
      "VF_iter= 53 , VF_1_dist= 0.003176169905069543 , VF_2_dist= 0.003176169905068927\n",
      "VF_iter= 54 , VF_1_dist= 0.0025726976231062347 , VF_2_dist= 0.0025726976231061132\n",
      "VF_iter= 55 , VF_1_dist= 0.0020838850747160655 , VF_2_dist= 0.0020838850747159636\n",
      "VF_iter= 56 , VF_1_dist= 0.0016879469105201693 , VF_2_dist= 0.0016879469105200225\n",
      "VF_iter= 57 , VF_1_dist= 0.001367236997521262 , VF_2_dist= 0.001367236997521339\n",
      "VF_iter= 58 , VF_1_dist= 0.0011074619679923433 , VF_2_dist= 0.0011074619679923596\n",
      "VF_iter= 59 , VF_1_dist= 0.0008970441940736994 , VF_2_dist= 0.0008970441940737006\n",
      "VF_iter= 60 , VF_1_dist= 0.0007266057971997242 , VF_2_dist= 0.0007266057971997038\n",
      "VF_iter= 61 , VF_1_dist= 0.0005885506957317844 , VF_2_dist= 0.0005885506957317387\n",
      "VF_iter= 62 , VF_1_dist= 0.00047672606354273706 , VF_2_dist= 0.0004767260635427956\n",
      "VF_iter= 63 , VF_1_dist= 0.00038614811146956123 , VF_2_dist= 0.00038614811146960303\n",
      "VF_iter= 64 , VF_1_dist= 0.0003127799702904292 , VF_2_dist= 0.00031277997029037334\n",
      "VF_iter= 65 , VF_1_dist= 0.0002533517759351785 , VF_2_dist= 0.00025335177593518543\n",
      "VF_iter= 66 , VF_1_dist= 0.00020521493850754935 , VF_2_dist= 0.00020521493850752802\n",
      "VF_iter= 67 , VF_1_dist= 0.0001662241001910623 , VF_2_dist= 0.00016622410019109633\n",
      "VF_iter= 68 , VF_1_dist= 0.00013464152115481487 , VF_2_dist= 0.00013464152115479183\n",
      "VF_iter= 69 , VF_1_dist= 0.00010905963213541248 , VF_2_dist= 0.00010905963213539321\n",
      "VF_iter= 70 , VF_1_dist= 8.8338302029661e-05 , VF_2_dist= 8.833830202966753e-05\n",
      "VF_iter= 71 , VF_1_dist= 7.155402464403856e-05 , VF_2_dist= 7.15540246440478e-05\n",
      "VF_iter= 72 , VF_1_dist= 5.795875996165589e-05 , VF_2_dist= 5.7958759961661034e-05\n",
      "VF_iter= 73 , VF_1_dist= 4.694659556892791e-05 , VF_2_dist= 4.694659556893948e-05\n",
      "VF_iter= 74 , VF_1_dist= 3.802674241086037e-05 , VF_2_dist= 3.802674241083306e-05\n",
      "VF_iter= 75 , VF_1_dist= 3.080166135278126e-05 , VF_2_dist= 3.080166135277851e-05\n",
      "VF_iter= 76 , VF_1_dist= 2.494934569574515e-05 , VF_2_dist= 2.4949345695754277e-05\n",
      "VF_iter= 77 , VF_1_dist= 2.020897001356923e-05 , VF_2_dist= 2.020897001356709e-05\n",
      "VF_iter= 78 , VF_1_dist= 1.6369265710988407e-05 , VF_2_dist= 1.6369265710981015e-05\n",
      "VF_iter= 79 , VF_1_dist= 1.3259105225910516e-05 , VF_2_dist= 1.3259105225906252e-05\n",
      "VF_iter= 80 , VF_1_dist= 1.0739875232965936e-05 , VF_2_dist= 1.0739875232984617e-05\n",
      "VF_iter= 81 , VF_1_dist= 8.699298938712718e-06 , VF_2_dist= 8.699298938707504e-06\n",
      "VF_iter= 82 , VF_1_dist= 7.0464321403506175e-06 , VF_2_dist= 7.046432140350144e-06\n",
      "VF_iter= 83 , VF_1_dist= 5.707610033692674e-06 , VF_2_dist= 5.707610033692011e-06\n",
      "VF_iter= 84 , VF_1_dist= 4.623164127290426e-06 , VF_2_dist= 4.623164127290895e-06\n",
      "VF_iter= 85 , VF_1_dist= 3.74476294310732e-06 , VF_2_dist= 3.744762943102132e-06\n",
      "VF_iter= 86 , VF_1_dist= 3.033257983914273e-06 , VF_2_dist= 3.033257983914965e-06\n",
      "VF_iter= 87 , VF_1_dist= 2.456938966967417e-06 , VF_2_dist= 2.4569389669733622e-06\n",
      "VF_iter= 88 , VF_1_dist= 1.9901205632451203e-06 , VF_2_dist= 1.9901205632432433e-06\n",
      "VF_iter= 89 , VF_1_dist= 1.6119976562335354e-06 , VF_2_dist= 1.6119976562321738e-06\n",
      "VF_iter= 90 , VF_1_dist= 1.30571810154078e-06 , VF_2_dist= 1.3057181015451377e-06\n",
      "VF_iter= 91 , VF_1_dist= 1.057631662250303e-06 , VF_2_dist= 1.0576316622498128e-06\n",
      "VF_iter= 92 , VF_1_dist= 8.56681646422731e-07 , VF_2_dist= 8.566816464215545e-07\n",
      "VF_iter= 93 , VF_1_dist= 6.939121336035867e-07 , VF_2_dist= 6.939121336025774e-07\n",
      "VF_iter= 94 , VF_1_dist= 5.620688282191999e-07 , VF_2_dist= 5.620688282196765e-07\n",
      "VF_iter= 95 , VF_1_dist= 4.552757508577101e-07 , VF_2_dist= 4.5527575085616907e-07\n",
      "VF_iter= 96 , VF_1_dist= 3.6877335819202437e-07 , VF_2_dist= 3.6877335819438823e-07\n",
      "VF_iter= 97 , VF_1_dist= 2.9870642013683795e-07 , VF_2_dist= 2.9870642013627356e-07\n",
      "VF_iter= 98 , VF_1_dist= 2.419522003137323e-07 , VF_2_dist= 2.419522003119641e-07\n",
      "VF_iter= 99 , VF_1_dist= 1.9598128225301894e-07 , VF_2_dist= 1.9598128225337061e-07\n",
      "VF_iter= 100 , VF_1_dist= 1.5874483862303668e-07 , VF_2_dist= 1.5874483862400997e-07\n",
      "VF_iter= 101 , VF_1_dist= 1.285833192855827e-07 , VF_2_dist= 1.2858331928544738e-07\n",
      "VF_iter= 102 , VF_1_dist= 1.0415248862251413e-07 , VF_2_dist= 1.0415248862207188e-07\n",
      "VF_iter= 103 , VF_1_dist= 8.436351578355345e-08 , VF_2_dist= 8.436351578269972e-08\n",
      "VF_iter= 104 , VF_1_dist= 6.83344477855671e-08 , VF_2_dist= 6.833444778534387e-08\n"
     ]
    },
    {
     "name": "stdout",
     "output_type": "stream",
     "text": [
      "VF_iter= 105 , VF_1_dist= 5.53509027053758e-08 , VF_2_dist= 5.535090270583837e-08\n",
      "VF_iter= 106 , VF_1_dist= 4.483423119153185e-08 , VF_2_dist= 4.483423119204489e-08\n",
      "VF_iter= 107 , VF_1_dist= 3.6315727264839536e-08 , VF_2_dist= 3.631572726505148e-08\n",
      "VF_iter= 108 , VF_1_dist= 2.9415739084466893e-08 , VF_2_dist= 2.941573908428636e-08\n",
      "VF_iter= 109 , VF_1_dist= 2.3826748658511376e-08 , VF_2_dist= 2.3826748658615608e-08\n",
      "VF_iter= 110 , VF_1_dist= 1.9299666413757857e-08 , VF_2_dist= 1.9299666413492987e-08\n",
      "VF_iter= 111 , VF_1_dist= 1.5632729794861284e-08 , VF_2_dist= 1.563272979508725e-08\n",
      "VF_iter= 112 , VF_1_dist= 1.266251113351493e-08 , VF_2_dist= 1.2662511133552924e-08\n",
      "VF_iter= 113 , VF_1_dist= 1.0256634018308001e-08 , VF_2_dist= 1.0256634018493045e-08\n",
      "VF_iter= 114 , VF_1_dist= 8.307873554829842e-09 , VF_2_dist= 8.307873554753813e-09\n"
     ]
    }
   ],
   "source": [
    "cap_grid = np.linspace(0.01, 10, 500)\n",
    "init_guess_state_1 = np.log(cap_grid + 1)\n",
    "init_guess_state_2 = np.log(cap_grid + 1)\n",
    "init_guess = np.vstack((init_guess_state_1, init_guess_state_2))\n",
    "print(init_guess)\n",
    "print(cap_grid)\n",
    "\n",
    "V_new = init_guess.copy()\n",
    "VF_iter = 0\n",
    "VF_1_dist = 10\n",
    "VF_2_dist = 10\n",
    "VF_maxiter = 2000\n",
    "VF_mindist = 1e-8\n",
    "beta = .9\n",
    "psi_grid = np.zeros(V_new.shape)\n",
    "\n",
    "\n",
    "while (VF_iter < VF_maxiter) and ((VF_1_dist > VF_mindist)  or (VF_2_dist > VF_mindist)):\n",
    "    VF_iter += 1\n",
    "    V_init = V_new.copy()\n",
    "    V_new = np.zeros(V_init.shape)\n",
    "    for k_ind in range(len(cap_grid)):\n",
    "        val_1_grid = np.zeros(len(cap_grid))\n",
    "        val_2_grid = np.zeros(len(cap_grid))\n",
    "        k_init = cap_grid[k_ind]\n",
    "        \n",
    "        for k_test in range(len(cap_grid)):\n",
    "            v_args = (k_init, util, V_init, beta, k_test)\n",
    "            val_1 = val_func_1(cap_grid[k_test], *v_args)\n",
    "            val_2 = val_func_2(cap_grid[k_test], *v_args)\n",
    "            val_1_grid[k_test] = val_1\n",
    "            val_2_grid[k_test] = val_2\n",
    "        V_new[0, k_ind] = np.max(val_1_grid)\n",
    "        V_new[1, k_ind] = np.max(val_2_grid)\n",
    "        psi_grid[0, k_ind] = cap_grid[np.argmax(val_1_grid)]\n",
    "        psi_grid[1, k_ind] = cap_grid[np.argmax(val_2_grid)]\n",
    "    \n",
    "    VF_1_dist = ((V_init[0] - V_new[0]) ** 2).sum()\n",
    "    VF_2_dist = ((V_init[1] - V_new[1]) ** 2).sum()\n",
    "    \n",
    "    print('VF_iter=', VF_iter, ', VF_1_dist=', VF_1_dist, ', VF_2_dist=', VF_2_dist)\n"
   ]
  },
  {
   "cell_type": "code",
   "execution_count": 61,
   "metadata": {},
   "outputs": [
    {
     "data": {
      "text/plain": [
       "[<matplotlib.lines.Line2D at 0x131820da90>]"
      ]
     },
     "execution_count": 61,
     "metadata": {},
     "output_type": "execute_result"
    },
    {
     "data": {
      "image/png": "[encoded data removed]",
      "text/plain": [
       "<Figure size 432x288 with 1 Axes>"
      ]
     },
     "metadata": {},
     "output_type": "display_data"
    }
   ],
   "source": [
    "#500 Point grid, Value Functions\n",
    "plt.plot(cap_grid, V_new[0,:])\n",
    "plt.plot(cap_grid, V_new[1,:])"
   ]
  },
  {
   "cell_type": "code",
   "execution_count": 62,
   "metadata": {},
   "outputs": [
    {
     "data": {
      "text/plain": [
       "[<matplotlib.lines.Line2D at 0x1318122eb8>]"
      ]
     },
     "execution_count": 62,
     "metadata": {},
     "output_type": "execute_result"
    },
    {
     "data": {
      "image/png": "[encoded data removed]",
      "text/plain": [
       "<Figure size 432x288 with 1 Axes>"
      ]
     },
     "metadata": {},
     "output_type": "display_data"
    }
   ],
   "source": [
    "#500 Point grid, Policy Functions\n",
    "plt.plot(cap_grid, psi_grid[0,:])\n",
    "plt.plot(cap_grid, psi_grid[1,:])"
   ]
  },
  {
   "cell_type": "markdown",
   "metadata": {},
   "source": [
    "# Problem 4: Stochastic Ramsey Model, Time Iteration Collocation"
   ]
  },
  {
   "cell_type": "markdown",
   "metadata": {},
   "source": [
    "## Problem 4a) Discrete Shocks"
   ]
  },
  {
   "cell_type": "markdown",
   "metadata": {},
   "source": [
    "First we define some useful functions, including an interpolator that returns a function handle depending on the desired method."
   ]
  },
  {
   "cell_type": "code",
   "execution_count": 68,
   "metadata": {},
   "outputs": [],
   "source": [
    "import numpy as np\n",
    "import matplotlib.pyplot as plt\n",
    "import scipy.interpolate as interp\n",
    "from numpy.polynomial import chebyshev\n"
   ]
  },
  {
   "cell_type": "code",
   "execution_count": 69,
   "metadata": {},
   "outputs": [],
   "source": [
    "def util(c):\n",
    "    if c > 0:\n",
    "        return np.log(c)\n",
    "    else: \n",
    "        return -5000000\n",
    "    \n",
    "d_util = lambda x: 1.0/ x\n",
    "\n",
    "##interpolation function that returns function handle given interp type\n",
    "def interpolate(k_grid, policy, method=\"pw-linear\", ndegree=None, A=none ):\n",
    "    if method == \"pw-linear\":\n",
    "        t = interp.interp1d(k_grid, policy, kind='linear',fill_value=\"extrapolate\")\n",
    "            \n",
    "    elif method == \"chebyshev\":\n",
    "        ###Get chebyshev coefficients \n",
    "        coeff = chebyshev.chebfit(k_grid, policy, ndegree)\n",
    "        t = lambda x: chebyshev.chebval(x, coeff)\n",
    "\n",
    "    elif method == \"cubic-spline\":\n",
    "        t = interp.interp1d(k_grid, policy, kind='cubic',fill_value=\"extrapolate\")\n",
    "        \n",
    "    else: raise NameError(\"invalid choice of interpolation method. Valid methods are \\\n",
    "                           'pw-linear,' 'chebyshev,' 'cubic-spline,' or 'ar_1'\")\n",
    "    return t\n",
    "\n",
    "production_1 = lambda k: 0.9*k**.3 + .3*k\n",
    "\n",
    "production_2 = lambda k: 1.1*k**.3 + .9*k\n",
    "\n",
    "d_production_1 = lambda k: .27*(k**(-.7)) + .3\n",
    "\n",
    "d_production_2 = lambda k: .33*(k**(-.7)) + .9\n",
    "\n",
    "def get_cheby_roots(ndegree, k_beg, k_end):\n",
    "    \"\"\"Returns roots for chebyshev polynomial of degree ndegree with \n",
    "    bounds on capital\n",
    "    \"\"\"\n",
    "    ##get the chebyshev zeros in our interval\n",
    "    k_beg = k_grid[0]\n",
    "    k_end = k_grid[-1]\n",
    "    k_grid_cheby = np.zeros(ndegree + 1)\n",
    "\n",
    "    for i in range(np.size(k_grid_cheby)):\n",
    "        k_grid_cheby[i] = .5 *(k_end + k_beg) + .5*(k_end - k_beg)*np.cos(np.pi*((2*(i+1)-1.)/(2*np.size(k_grid_cheby))))\n",
    "    k_grid_cheby.sort()\n",
    "    \n",
    "    return k_grid_cheby\n"
   ]
  },
  {
   "cell_type": "markdown",
   "metadata": {},
   "source": [
    "### Two Euler Equations, 1 for each state:"
   ]
  },
  {
   "cell_type": "code",
   "execution_count": 70,
   "metadata": {},
   "outputs": [],
   "source": [
    "beta = .9\n",
    "\n",
    "###define our 2 updating Euler equations (1 for each state) that we need to solve in order to \n",
    "###determine the optimal policy in each iteration\n",
    "def state_1_eq(k_plus_j, *parameters):\n",
    "    \"\"\"State 1 Equation: \n",
    "    Parameters: \n",
    "        k_plus_j: variable, will be optimized\n",
    "        k_j: level of capital for which to find optimal policy\n",
    "        d_util : derivative of utility func\n",
    "        prod_1 : production in state 1\n",
    "        d_prod_1: derivative of production in state 1\n",
    "        prod_2 : production in state 2\n",
    "        d_prod_2: derivative of production in state 2\n",
    "        interp_1: interpolated policy function given state 1\n",
    "        interp_2: interpolated policy function given state 2 \n",
    "        beta = discount factor\n",
    "        \"\"\"\n",
    "    k_j, d_util, prod_1, d_prod_1, prod_2, d_prod_2, \\\n",
    "    interp_1, interp_2, beta = parameters\n",
    "    value = d_util(prod_1(k_j)-k_plus_j) - beta * (.5 * d_prod_1(k_plus_j) *d_util((prod_1(k_plus_j)-interp_1(k_plus_j))) + \\\n",
    "                                                  .5 * d_prod_2(k_plus_j) *d_util((prod_2(k_plus_j)-interp_2(k_plus_j))))\n",
    "    return value\n",
    "    \n",
    "def state_2_eq(k_plus_j, *parameters):\n",
    "    \"\"\"State 2 Equation: \n",
    "    Parameters: \n",
    "        k_plus_j: variable, will be optimized\n",
    "        k_j: level of capital for which to find optimal policy\n",
    "        d_util : derivative of utility func\n",
    "        prod_1 : production in state 1\n",
    "        d_prod_1: derivative of production in state 1\n",
    "        prod_2 : production in state 2\n",
    "        d_prod_2: derivative of production in state 2\n",
    "        interp_1: interpolated policy function given state 1\n",
    "        interp_2: interpolated policy function given state 2 \n",
    "        beta = discount factor\n",
    "        \"\"\"\n",
    "    k_j, d_util, prod_1, d_prod_1, prod_2, d_prod_2, \\\n",
    "    interp_1, interp_2, beta = parameters\n",
    "    \n",
    "    value = d_util(prod_2(k_j)-k_plus_j) - beta * (.5 * d_prod_1(k_plus_j) *d_util((prod_1(k_plus_j)-interp_1(k_plus_j))) + \\\n",
    "                                                  .5 * d_prod_2(k_plus_j) *d_util((prod_2(k_plus_j)-interp_2(k_plus_j))))\n",
    "    return value"
   ]
  },
  {
   "cell_type": "code",
   "execution_count": 71,
   "metadata": {},
   "outputs": [
    {
     "name": "stdout",
     "output_type": "stream",
     "text": [
      "time_iter= 1 , time_1_dist= 1.4921014492293778 , time_2_dist= 133.68893433623595\n",
      "time_iter= 2 , time_1_dist= 0.044551889931155816 , time_2_dist= 1.8573505721157195\n",
      "time_iter= 3 , time_1_dist= 0.013444919984078443 , time_2_dist= 0.027229049682233664\n",
      "time_iter= 4 , time_1_dist= 0.00125278588479552 , time_2_dist= 0.011918348630227255\n",
      "time_iter= 5 , time_1_dist= 5.534697208843481e-05 , time_2_dist= 0.0027364812035974555\n",
      "time_iter= 6 , time_1_dist= 4.211174525964403e-05 , time_2_dist= 0.00014536693334595837\n",
      "time_iter= 7 , time_1_dist= 2.2952776705508456e-05 , time_2_dist= 2.6325839860017557e-05\n",
      "time_iter= 8 , time_1_dist= 8.058422958033692e-06 , time_2_dist= 2.7851516332002136e-05\n",
      "time_iter= 9 , time_1_dist= 2.3289238017788164e-06 , time_2_dist= 1.281261378699634e-05\n",
      "time_iter= 10 , time_1_dist= 6.116805961337635e-07 , time_2_dist= 4.195489788592359e-06\n",
      "time_iter= 11 , time_1_dist= 1.5281105919933457e-07 , time_2_dist= 1.174607897222484e-06\n",
      "time_iter= 12 , time_1_dist= 3.715764197969236e-08 , time_2_dist= 3.0366514663852323e-07\n",
      "time_iter= 13 , time_1_dist= 8.902482439522284e-09 , time_2_dist= 7.523726586900899e-08\n",
      "time_iter= 14 , time_1_dist= 2.115570446812191e-09 , time_2_dist= 1.8213618595419065e-08\n",
      "time_iter= 15 , time_1_dist= 5.004749897550918e-10 , time_2_dist= 4.353182954087264e-09\n"
     ]
    }
   ],
   "source": [
    "import scipy.optimize as optimize\n",
    "##perform policy time iteration, Piecewise Linear\n",
    "k_grid = np.linspace(0.01, 10, 30)\n",
    "## Set initial policy to a 2 by 50 array, first row is K+_1, second K+_2\n",
    "init_policy = np.repeat(np.expand_dims(np.log(k_grid + 1),0), 2, axis=0)\n",
    "updated_policy = init_policy\n",
    "interp_1 = interpolate(k_grid, init_policy[0])\n",
    "interp_2 = interpolate(k_grid, init_policy[1])\n",
    "time_iter = 0\n",
    "time_1_dist = 10\n",
    "time_2_dist = 10\n",
    "time_maxiter = 2000\n",
    "time_mindist = 1e-8\n",
    "beta = .9\n",
    "\n",
    "while (time_iter < time_maxiter) and ((time_1_dist > time_mindist)  or (time_2_dist > time_mindist)):\n",
    "    time_iter += 1\n",
    "    init_policy = updated_policy\n",
    "    updated_policy = np.zeros(init_policy.shape)\n",
    "    for ind, k_ind in enumerate(k_grid):\n",
    "      \n",
    "        parameters = (k_ind, d_util, production_1, d_production_1, production_2, d_production_2, \\\n",
    "        interp_1, interp_2, beta)\n",
    "\n",
    "        solve1 = optimize.root(state_1_eq, interp_1(k_ind), method='hybr', args=(parameters))\n",
    "        updated_policy[0, ind] = solve1.x\n",
    "        solve2 = optimize.root(state_2_eq, interp_2(k_ind), method='hybr', args=(parameters))\n",
    "        updated_policy[1, ind] = solve2.x\n",
    "    interp_1 = interpolate(k_grid, updated_policy[0])\n",
    "    interp_2 = interpolate(k_grid, updated_policy[1])\n",
    "    time_1_dist = ((updated_policy[0] - init_policy[0]) ** 2).sum()\n",
    "    time_2_dist = ((updated_policy[1] - init_policy[1]) ** 2).sum()\n",
    "    \n",
    "    \n",
    "    print('time_iter=', time_iter, ', time_1_dist=', time_1_dist, ', time_2_dist=', time_2_dist)\n",
    "    "
   ]
  },
  {
   "cell_type": "code",
   "execution_count": 72,
   "metadata": {},
   "outputs": [
    {
     "data": {
      "text/plain": [
       "[<matplotlib.lines.Line2D at 0x13183f2470>]"
      ]
     },
     "execution_count": 72,
     "metadata": {},
     "output_type": "execute_result"
    },
    {
     "data": {
      "image/png": "[encoded data removed]",
      "text/plain": [
       "<Figure size 432x288 with 1 Axes>"
      ]
     },
     "metadata": {},
     "output_type": "display_data"
    }
   ],
   "source": [
    "plot_grid = np.linspace(.01, 10, 10000)\n",
    "plt.plot(plot_grid, interp_1(plot_grid))\n",
    "plt.plot(plot_grid, interp_2(plot_grid))"
   ]
  },
  {
   "cell_type": "markdown",
   "metadata": {},
   "source": [
    "### Interpolating with Cubic Splines"
   ]
  },
  {
   "cell_type": "code",
   "execution_count": 73,
   "metadata": {},
   "outputs": [
    {
     "name": "stdout",
     "output_type": "stream",
     "text": [
      "time_iter= 1 , time_1_dist= 24.804308194701076 , time_2_dist= 2184.3137582515383\n",
      "time_iter= 2 , time_1_dist= 0.7432494742704301 , time_2_dist= 29.425074217109078\n",
      "time_iter= 3 , time_1_dist= 0.22940165055032816 , time_2_dist= 0.4256419089956588\n",
      "time_iter= 4 , time_1_dist= 0.020967098848993625 , time_2_dist= 0.19921515683438482\n",
      "time_iter= 5 , time_1_dist= 0.00118902664994031 , time_2_dist= 0.04580100878161592\n",
      "time_iter= 6 , time_1_dist= 0.0010317370584142904 , time_2_dist= 0.002443278461942564\n",
      "time_iter= 7 , time_1_dist= 0.000570192377919071 , time_2_dist= 0.0007100270191960954\n",
      "time_iter= 8 , time_1_dist= 0.00020825244512984062 , time_2_dist= 0.0007005785924513796\n",
      "time_iter= 9 , time_1_dist= 6.283048063338533e-05 , time_2_dist= 0.00032518194969460406\n",
      "time_iter= 10 , time_1_dist= 1.719183770255916e-05 , time_2_dist= 0.000110164923092644\n",
      "time_iter= 11 , time_1_dist= 4.459894024646471e-06 , time_2_dist= 3.2064216283426597e-05\n",
      "time_iter= 12 , time_1_dist= 1.1226230768075673e-06 , time_2_dist= 8.610297523401268e-06\n",
      "time_iter= 13 , time_1_dist= 2.7770940639050086e-07 , time_2_dist= 2.2106602129434354e-06\n",
      "time_iter= 14 , time_1_dist= 6.800526376235188e-08 , time_2_dist= 5.53186522916889e-07\n",
      "time_iter= 15 , time_1_dist= 1.655428081739428e-08 , time_2_dist= 1.3637847528073124e-07\n",
      "time_iter= 16 , time_1_dist= 4.015661595128172e-09 , time_2_dist= 3.332966452183864e-08\n",
      "time_iter= 17 , time_1_dist= 9.720914183734447e-10 , time_2_dist= 8.103808202347713e-09\n"
     ]
    },
    {
     "data": {
      "text/plain": [
       "[<matplotlib.lines.Line2D at 0x107c40390>]"
      ]
     },
     "execution_count": 73,
     "metadata": {},
     "output_type": "execute_result"
    },
    {
     "data": {
      "image/png": "[encoded data removed]",
      "text/plain": [
       "<Figure size 432x288 with 1 Axes>"
      ]
     },
     "metadata": {},
     "output_type": "display_data"
    }
   ],
   "source": [
    "##perform policy time iteration, Cubic Splines\n",
    "k_grid = np.linspace(0.01, 10, 500)\n",
    "## Set initial policy to a 2 by 50 array, first row is K+_1, second K+_2\n",
    "init_policy = np.repeat(np.expand_dims(np.log(k_grid + 1),0), 2, axis=0)\n",
    "updated_policy = init_policy\n",
    "interp_1 = interpolate(k_grid, init_policy[0], method = 'cubic-spline')\n",
    "interp_2 = interpolate(k_grid, init_policy[1], method = 'cubic-spline')\n",
    "time_iter = 0\n",
    "time_1_dist = 10\n",
    "time_2_dist = 10\n",
    "time_maxiter = 2000\n",
    "time_mindist = 1e-8\n",
    "beta = .9\n",
    "\n",
    "while (time_iter < time_maxiter) and ((time_1_dist > time_mindist)  or (time_2_dist > time_mindist)):\n",
    "    time_iter += 1\n",
    "    init_policy = updated_policy\n",
    "    updated_policy = np.zeros(init_policy.shape)\n",
    "    for ind, k_ind in enumerate(k_grid):\n",
    "      \n",
    "        parameters = (k_ind, d_util, production_1, d_production_1, production_2, d_production_2, \\\n",
    "        interp_1, interp_2, beta)\n",
    "\n",
    "        solve1 = optimize.root(state_1_eq, interp_1(k_ind), method='hybr', args=(parameters))\n",
    "        updated_policy[0, ind] = solve1.x\n",
    "        solve2 = optimize.root(state_2_eq, interp_2(k_ind), method='hybr', args=(parameters))\n",
    "        updated_policy[1, ind] = solve2.x\n",
    "    interp_1 = interpolate(k_grid, updated_policy[0], method='cubic-spline')\n",
    "    interp_2 = interpolate(k_grid, updated_policy[1], method='cubic-spline')\n",
    "    time_1_dist = ((updated_policy[0] - init_policy[0]) ** 2).sum()\n",
    "    time_2_dist = ((updated_policy[1] - init_policy[1]) ** 2).sum()\n",
    "    \n",
    "    print('time_iter=', time_iter, ', time_1_dist=', time_1_dist, ', time_2_dist=', time_2_dist)\n",
    "    \n",
    "plot_grid = np.linspace(.01, 10, 10000)\n",
    "plt.plot(plot_grid, interp_1(plot_grid))\n",
    "plt.plot(plot_grid, interp_2(plot_grid))"
   ]
  },
  {
   "cell_type": "markdown",
   "metadata": {},
   "source": [
    "### Different Utility, Beta = .999"
   ]
  },
  {
   "cell_type": "code",
   "execution_count": 74,
   "metadata": {},
   "outputs": [
    {
     "name": "stdout",
     "output_type": "stream",
     "text": [
      "time_iter= 1 , time_1_dist= 16.522122858501596 , time_2_dist= 598.7398280222847\n",
      "time_iter= 2 , time_1_dist= 0.3186265470556284 , time_2_dist= 16.974507948719776\n",
      "time_iter= 3 , time_1_dist= 0.016457707582944795 , time_2_dist= 0.8979072880193572\n",
      "time_iter= 4 , time_1_dist= 0.0019335682998056168 , time_2_dist= 0.12268669216860136\n",
      "time_iter= 5 , time_1_dist= 0.0002614237644063222 , time_2_dist= 0.024628352806478043\n",
      "time_iter= 6 , time_1_dist= 3.783703360579881e-05 , time_2_dist= 0.005529248944143479\n",
      "time_iter= 7 , time_1_dist= 6.69628475875789e-06 , time_2_dist= 0.0012612207927123495\n",
      "time_iter= 8 , time_1_dist= 1.846776987081096e-06 , time_2_dist= 0.0002828728026899223\n",
      "time_iter= 9 , time_1_dist= 1.2299179539358034e-06 , time_2_dist= 6.371180083842178e-05\n",
      "time_iter= 10 , time_1_dist= 1.5021739067570497e-06 , time_2_dist= 1.621008012666255e-05\n",
      "time_iter= 11 , time_1_dist= 1.7750982029741546e-06 , time_2_dist= 5.930770279840282e-06\n",
      "time_iter= 12 , time_1_dist= 1.7951270561781358e-06 , time_2_dist= 3.5358966320259056e-06\n",
      "time_iter= 13 , time_1_dist= 1.5950189623179786e-06 , time_2_dist= 2.8136797709430064e-06\n",
      "time_iter= 14 , time_1_dist= 1.2885568651136722e-06 , time_2_dist= 2.4078445671708068e-06\n",
      "time_iter= 15 , time_1_dist= 9.710521312412574e-07 , time_2_dist= 2.020681665926973e-06\n",
      "time_iter= 16 , time_1_dist= 6.95048870240215e-07 , time_2_dist= 1.619869288177967e-06\n",
      "time_iter= 17 , time_1_dist= 4.785826594294242e-07 , time_2_dist= 1.2372161271453675e-06\n",
      "time_iter= 18 , time_1_dist= 3.1992667982709994e-07 , time_2_dist= 9.047031439794863e-07\n",
      "time_iter= 19 , time_1_dist= 2.0903453250072764e-07 , time_2_dist= 6.375707040885792e-07\n",
      "time_iter= 20 , time_1_dist= 1.3416583331393107e-07 , time_2_dist= 4.3579510612067997e-07\n",
      "time_iter= 21 , time_1_dist= 8.491344763483985e-08 , time_2_dist= 2.905247936664284e-07\n",
      "time_iter= 22 , time_1_dist= 5.314864525913991e-08 , time_2_dist= 1.897804394311196e-07\n",
      "time_iter= 23 , time_1_dist= 3.297427238920173e-08 , time_2_dist= 1.2194005027775961e-07\n",
      "time_iter= 24 , time_1_dist= 2.0314100351761336e-08 , time_2_dist= 7.730709854741514e-08\n",
      "time_iter= 25 , time_1_dist= 1.2444230865106185e-08 , time_2_dist= 4.8480533128179434e-08\n",
      "time_iter= 26 , time_1_dist= 7.588734430035936e-09 , time_2_dist= 3.013559920438357e-08\n",
      "time_iter= 27 , time_1_dist= 4.610903726973818e-09 , time_2_dist= 1.85984987326345e-08\n",
      "time_iter= 28 , time_1_dist= 2.7933519662119015e-09 , time_2_dist= 1.1411601360411957e-08\n",
      "time_iter= 29 , time_1_dist= 1.688242263734656e-09 , time_2_dist= 6.9688446867378235e-09\n"
     ]
    },
    {
     "data": {
      "text/plain": [
       "[<matplotlib.lines.Line2D at 0x13183ebf98>]"
      ]
     },
     "execution_count": 74,
     "metadata": {},
     "output_type": "execute_result"
    },
    {
     "data": {
      "image/png": "[encoded data removed]",
      "text/plain": [
       "<Figure size 432x288 with 1 Axes>"
      ]
     },
     "metadata": {},
     "output_type": "display_data"
    }
   ],
   "source": [
    "##perform policy time iteration, u = -c ** -4; beta = .999\n",
    "\n",
    "##We use a different utility here\n",
    "d_util_2 = lambda x : 4*x**-5\n",
    "k_grid = np.linspace(0.01, 10, 50)\n",
    "## Set initial policy to a 2 by 50 array, first row is K+_1, second K+_2\n",
    "init_policy = np.repeat(np.expand_dims(np.log(k_grid + 1),0), 2, axis=0)\n",
    "updated_policy = init_policy\n",
    "interp_1 = interpolate(k_grid, init_policy[0], method = 'cubic-spline')\n",
    "interp_2 = interpolate(k_grid, init_policy[1], method = 'cubic-spline')\n",
    "time_iter = 0\n",
    "time_1_dist = 10\n",
    "time_2_dist = 10\n",
    "time_maxiter = 2000\n",
    "time_mindist = 1e-8\n",
    "beta = .999\n",
    "\n",
    "while (time_iter < time_maxiter) and ((time_1_dist > time_mindist)  or (time_2_dist > time_mindist)):\n",
    "    time_iter += 1\n",
    "    init_policy = updated_policy\n",
    "    updated_policy = np.zeros(init_policy.shape)\n",
    "    for ind, k_ind in enumerate(k_grid):\n",
    "      \n",
    "        parameters = (k_ind, d_util_2, production_1, d_production_1, production_2, d_production_2, \\\n",
    "        interp_1, interp_2, beta)\n",
    "\n",
    "        solve1 = optimize.root(state_1_eq, interp_1(k_ind), method='hybr', args=(parameters))\n",
    "        updated_policy[0, ind] = solve1.x\n",
    "        solve2 = optimize.root(state_2_eq, interp_2(k_ind), method='hybr', args=(parameters))\n",
    "        updated_policy[1, ind] = solve2.x\n",
    "    interp_1 = interpolate(k_grid, updated_policy[0], method='cubic-spline')\n",
    "    interp_2 = interpolate(k_grid, updated_policy[1], method='cubic-spline')\n",
    "    time_1_dist = ((updated_policy[0] - init_policy[0]) ** 2).sum()\n",
    "    time_2_dist = ((updated_policy[1] - init_policy[1]) ** 2).sum()\n",
    "    \n",
    "    print('time_iter=', time_iter, ', time_1_dist=', time_1_dist, ', time_2_dist=', time_2_dist)\n",
    "    \n",
    "plot_grid = np.linspace(.01, 10, 10000)\n",
    "plt.plot(plot_grid, interp_1(plot_grid))\n",
    "plt.plot(plot_grid, interp_2(plot_grid))"
   ]
  },
  {
   "cell_type": "markdown",
   "metadata": {},
   "source": [
    "# Chebyshev Polynomials (Degree 5)\n"
   ]
  },
  {
   "cell_type": "code",
   "execution_count": 75,
   "metadata": {},
   "outputs": [
    {
     "name": "stdout",
     "output_type": "stream",
     "text": [
      "time_iter= 1 , time_1_dist= 0.27515702964787253 , time_2_dist= 30.322605580199163\n",
      "time_iter= 2 , time_1_dist= 0.009919286024543898 , time_2_dist= 0.5247383262147607\n",
      "time_iter= 3 , time_1_dist= 0.0033977776170829917 , time_2_dist= 0.006560959698789524\n",
      "time_iter= 4 , time_1_dist= 0.00042152322517953575 , time_2_dist= 0.0028767813146135957\n",
      "time_iter= 5 , time_1_dist= 2.0422181801932214e-05 , time_2_dist= 0.0009273432156650539\n",
      "time_iter= 6 , time_1_dist= 1.155744919310939e-06 , time_2_dist= 9.146989176724601e-05\n",
      "time_iter= 7 , time_1_dist= 1.1670898364623567e-06 , time_2_dist= 2.444820407940326e-06\n",
      "time_iter= 8 , time_1_dist= 5.3910019900949e-07 , time_2_dist= 9.093442300796796e-07\n",
      "time_iter= 9 , time_1_dist= 1.704364730853147e-07 , time_2_dist= 7.526308116381028e-07\n",
      "time_iter= 10 , time_1_dist= 4.521675702989135e-08 , time_2_dist= 2.967729566757489e-07\n",
      "time_iter= 11 , time_1_dist= 1.0940051372077985e-08 , time_2_dist= 8.761860737072397e-08\n",
      "time_iter= 12 , time_1_dist= 2.5134185054295045e-09 , time_2_dist= 2.246686813364991e-08\n",
      "time_iter= 13 , time_1_dist= 5.603359910783157e-10 , time_2_dist= 5.3365365488548756e-09\n",
      "This is ultra-fast!\n"
     ]
    },
    {
     "data": {
      "image/png": "[encoded data removed]",
      "text/plain": [
       "<Figure size 432x288 with 1 Axes>"
      ]
     },
     "metadata": {},
     "output_type": "display_data"
    }
   ],
   "source": [
    "##perform policy time iteration, Chebyshev Polynomials\n",
    "k_beg = .01\n",
    "k_end = 10\n",
    "k_grid_cheby = get_cheby_roots(5, k_beg, k_end)\n",
    "## Set initial policy to a 2 by 50 array, first row is K+_1, second K+_2\n",
    "init_policy = np.repeat(np.expand_dims(np.log(k_grid_cheby + 1),0), 2, axis=0)\n",
    "updated_policy = init_policy\n",
    "interp_1 = interpolate(k_grid_cheby, init_policy[0], method = 'chebyshev', ndegree=5)\n",
    "interp_2 = interpolate(k_grid_cheby, init_policy[1], method = 'chebyshev', ndegree=5)\n",
    "time_iter = 0\n",
    "time_1_dist = 10\n",
    "time_2_dist = 10\n",
    "time_maxiter = 2000\n",
    "time_mindist = 1e-8\n",
    "beta = .9\n",
    "\n",
    "while (time_iter < time_maxiter) and ((time_1_dist > time_mindist)  or (time_2_dist > time_mindist)):\n",
    "    time_iter += 1\n",
    "    init_policy = updated_policy\n",
    "    updated_policy = np.zeros(init_policy.shape)\n",
    "    for ind, k_ind in enumerate(k_grid_cheby):\n",
    "      \n",
    "        parameters = (k_ind, d_util, production_1, d_production_1, production_2, d_production_2, \\\n",
    "        interp_1, interp_2, beta)\n",
    "\n",
    "        solve1 = optimize.root(state_1_eq, interp_1(k_ind), method='hybr', args=(parameters))\n",
    "        updated_policy[0, ind] = solve1.x\n",
    "        solve2 = optimize.root(state_2_eq, interp_2(k_ind), method='hybr', args=(parameters))\n",
    "        updated_policy[1, ind] = solve2.x\n",
    "        \n",
    "    interp_1 = interpolate(k_grid_cheby, updated_policy[0], method='chebyshev', ndegree=5)\n",
    "    interp_2 = interpolate(k_grid_cheby, updated_policy[1], method='chebyshev', ndegree=5)\n",
    "    time_1_dist = ((updated_policy[0] - init_policy[0]) ** 2).sum()\n",
    "    time_2_dist = ((updated_policy[1] - init_policy[1]) ** 2).sum()\n",
    "    \n",
    "    print('time_iter=', time_iter, ', time_1_dist=', time_1_dist, ', time_2_dist=', time_2_dist)\n",
    "    \n",
    "plot_grid = np.linspace(.01, 10, 10000)\n",
    "plt.plot(plot_grid, interp_1(plot_grid))\n",
    "plt.plot(plot_grid, interp_2(plot_grid))\n",
    "\n",
    "\n",
    "\n",
    "\n",
    "print(\"This is ultra-fast!\")"
   ]
  },
  {
   "cell_type": "markdown",
   "metadata": {},
   "source": [
    "## Problem 4(b): AR(1) Shocks"
   ]
  },
  {
   "cell_type": "code",
   "execution_count": 76,
   "metadata": {},
   "outputs": [
    {
     "data": {
      "image/png": "[encoded data removed]",
      "text/plain": [
       "<Figure size 432x288 with 1 Axes>"
      ]
     },
     "metadata": {},
     "output_type": "display_data"
    }
   ],
   "source": [
    "import ar1_approx\n",
    "\n",
    "def util(c):\n",
    "    if c > 0:\n",
    "        return np.log(c)\n",
    "    else: \n",
    "        return -5000000\n",
    "    \n",
    "d_util = lambda x: 1.0/ x\n",
    "\n",
    "def AR_1(A_prev):\n",
    "    A_new = .9*A_prev + .1*np.random.randn()\n",
    "    return A_new\n",
    "\n",
    "def production(A_t, k):\n",
    "    return np.exp(A_t)*(k**.3) +.5*k\n",
    "\n",
    "def d_production_k(A_t, k):\n",
    "    return .3* np.exp(A_t)*(k**(-.7)) + .5\n",
    "\n",
    "def sim_AR_1(A_start, sim_len):\n",
    "    AR_1_out = np.zeros(sim_len)\n",
    "    for i in range(sim_len):\n",
    "        A_new = AR_1(A_start)\n",
    "        A_start = A_new\n",
    "        AR_1_out[i] = A_new\n",
    "    plt.plot(np.linspace(0, sim_len, sim_len), AR_1_out)\n",
    "    return\n",
    "\n",
    "sim_AR_1(.5, 500)"
   ]
  },
  {
   "cell_type": "code",
   "execution_count": 77,
   "metadata": {},
   "outputs": [],
   "source": [
    "def euler_eqn_AR_1(k_plus_j, *parameters):\n",
    "    \"\"\"\n",
    "    State Equation: \n",
    "    \n",
    "    Parameters: \n",
    "        k_plus_j: variable, will be optimized\n",
    "        k_grid_ind: index of capital \n",
    "        K_Grid: 2D capital grid, comes from np.meshgrid\n",
    "        A_Grid: 2D A grid, comes from np.meshgrid\n",
    "        a_grid_ind: index of A\n",
    "        pi_mat: transition probability matrix for discretized approx to AR(1)\n",
    "        interp: interpolated 2D policy function for the current shock\n",
    "        d_util : derivative of utility func\n",
    "        prod : production function, takes A_t and capital as variables\n",
    "        d_prod_1: derivative of production function wrt captial\n",
    "        beta = discount factor\n",
    "    \"\"\"\n",
    "    k_grid_ind, a_grid_ind, K_Grid, A_Grid, pi_mat, interp, \\\n",
    "    d_util, prod, d_prod, beta = parameters\n",
    "    \n",
    "    curr_A = A_Grid[a_grid_ind]\n",
    "    curr_K = K_Grid[k_grid_ind]\n",
    "    shock_exp = 0 \n",
    "    \n",
    "    for j in range(len(A_Grid)):\n",
    "        shock_exp += pi_mat[a_grid_ind,j] * d_prod(A_Grid[j], k_plus_j) * \\\n",
    "        d_util((prod(A_Grid[j],k_plus_j) - interp(k_plus_j)))\n",
    "\n",
    "    value = d_util(prod(curr_A, curr_K)- k_plus_j) - beta * shock_exp\n",
    "    \n",
    "    \n",
    "    return value \n"
   ]
  },
  {
   "cell_type": "code",
   "execution_count": 78,
   "metadata": {},
   "outputs": [
    {
     "name": "stdout",
     "output_type": "stream",
     "text": [
      "[-0.63639479 -0.51900936 -0.41962077 -0.32890824 -0.32890824 -0.32890824\n",
      " -0.32890824 -0.32890824  0.32890824  0.32890824  0.32890824  0.32890824\n",
      "  0.41962077  0.51900936  0.63639479]\n",
      "time_iter= 1 , time_dist= 147.75510304659534\n",
      "time_iter= 2 , time_dist= 7.968053648346616\n",
      "time_iter= 3 , time_dist= 1.6700919820099434\n",
      "time_iter= 4 , time_dist= 0.9193819698853629\n",
      "time_iter= 5 , time_dist= 0.2369568918664926\n",
      "time_iter= 6 , time_dist= 0.09298808950908252\n",
      "time_iter= 7 , time_dist= 0.04411145058271876\n",
      "time_iter= 8 , time_dist= 0.022565096478568695\n",
      "time_iter= 9 , time_dist= 0.012032569697346878\n",
      "time_iter= 10 , time_dist= 0.006593530592624685\n",
      "time_iter= 11 , time_dist= 0.003689144052760802\n",
      "time_iter= 12 , time_dist= 0.0021009093350761506\n",
      "time_iter= 13 , time_dist= 0.0012122470081237322\n",
      "time_iter= 14 , time_dist= 0.0007034312388097154\n",
      "time_iter= 15 , time_dist= 0.00041436044064218725\n",
      "time_iter= 16 , time_dist= 0.0002468045377357377\n",
      "time_iter= 17 , time_dist= 0.00014809359806604397\n",
      "time_iter= 18 , time_dist= 8.939524847537003e-05\n",
      "time_iter= 19 , time_dist= 5.42373853758099e-05\n",
      "time_iter= 20 , time_dist= 3.305115350894198e-05\n",
      "time_iter= 21 , time_dist= 2.0218098810988656e-05\n",
      "time_iter= 22 , time_dist= 1.2409969905120574e-05\n",
      "time_iter= 23 , time_dist= 7.640566507995731e-06\n",
      "time_iter= 24 , time_dist= 4.717159957374103e-06\n",
      "time_iter= 25 , time_dist= 2.9196665229505235e-06\n",
      "time_iter= 26 , time_dist= 1.811330044491337e-06\n",
      "time_iter= 27 , time_dist= 1.12616144739577e-06\n",
      "time_iter= 28 , time_dist= 7.015837695327998e-07\n",
      "time_iter= 29 , time_dist= 4.3790425964540794e-07\n",
      "time_iter= 30 , time_dist= 2.7381085569213584e-07\n",
      "time_iter= 31 , time_dist= 1.7149440600319268e-07\n",
      "time_iter= 32 , time_dist= 1.0758131514826903e-07\n",
      "time_iter= 33 , time_dist= 6.758871831862453e-08\n",
      "time_iter= 34 , time_dist= 4.2523345684603696e-08\n",
      "time_iter= 35 , time_dist= 2.6789459493923368e-08\n",
      "time_iter= 36 , time_dist= 1.6898687916016244e-08\n",
      "time_iter= 37 , time_dist= 1.0672477245023771e-08\n",
      "time_iter= 38 , time_dist= 6.747963844698544e-09\n"
     ]
    }
   ],
   "source": [
    "##Perform 2D policy time iteration with an Markov-process approximated AR(1) Process\n",
    "##We use the tauchenhussey function from ar1_approx.py to compute both the A_Grid and the Transition matrix\n",
    "k_grid = np.linspace(0.01, 10, 15)\n",
    "A, A_trans = ar1_approx.tauchenhussey(len(k_grid), 0, .9, .1, .1)\n",
    "a_grid = A[0]\n",
    "\n",
    "print(a_grid)\n",
    "\n",
    "#K_Grid, A_Grid = np.meshgrid(k_grid, A)\n",
    "init_policy = np.repeat(np.expand_dims(np.log(k_grid + 1),0), len(a_grid), axis=0)\n",
    "updated_policy = init_policy\n",
    "interpolations = []\n",
    "for i in range(np.size(a_grid)):\n",
    "    interpolations.append(interpolate(k_grid, updated_policy[i]))\n",
    "\n",
    "\n",
    "time_iter = 0\n",
    "time_dist = 10\n",
    "time_maxiter = 2000\n",
    "time_mindist = 1e-8\n",
    "beta = .99\n",
    "\n",
    "while (time_iter < time_maxiter) and (time_dist > time_mindist):\n",
    "    \n",
    "    time_iter += 1\n",
    "    init_policy = updated_policy\n",
    "    updated_policy = np.zeros(init_policy.shape)\n",
    "    for a_ind in range(np.size(a_grid)):\n",
    "        for k_ind in range(np.size(k_grid)):\n",
    "            parameters = (k_ind, a_ind, k_grid, a_grid, A_trans, interpolations[a_ind], \\\n",
    "                            d_util, production, d_production_k, beta)\n",
    "            curr_k = k_grid[k_ind]\n",
    "            solve = optimize.root(euler_eqn_AR_1, interpolations[a_ind](curr_k), method='hybr', args=(parameters))\n",
    "            updated_policy[a_ind, k_ind] = solve.x\n",
    "        interpolations[a_ind] = interpolate(k_grid, updated_policy[a_ind,:])\n",
    "        \n",
    "    \n",
    "\n",
    "    time_dist = ((updated_policy- init_policy) ** 2).sum()\n",
    "    \n",
    "    \n",
    "    print('time_iter=', time_iter, ', time_dist=', time_dist)\n",
    "\n",
    " \n",
    "    "
   ]
  },
  {
   "cell_type": "markdown",
   "metadata": {},
   "source": [
    "We plot the policy functions for all of the possible shocks in our discretized AR(1) approximation."
   ]
  },
  {
   "cell_type": "code",
   "execution_count": 81,
   "metadata": {},
   "outputs": [
    {
     "data": {
      "text/plain": [
       "Text(0,0.5,'Investment Policy')"
      ]
     },
     "execution_count": 81,
     "metadata": {},
     "output_type": "execute_result"
    },
    {
     "data": {
      "image/png": "[encoded data removed]",
      "text/plain": [
       "<Figure size 1440x1440 with 1 Axes>"
      ]
     },
     "metadata": {},
     "output_type": "display_data"
    }
   ],
   "source": [
    "x = np.linspace(0.1, 10, 1000)\n",
    "plt.figure(figsize=(20,20))\n",
    "for i in range(len(interpolations)):\n",
    "    plt.plot(x, interpolations[i](x)) \n",
    "plt.xlabel(\"Capital\", fontsize= 20)\n",
    "plt.ylabel(\"Investment Policy\", fontsize = 20)"
   ]
  },
  {
   "cell_type": "code",
   "execution_count": null,
   "metadata": {},
   "outputs": [],
   "source": []
  }
 ],
 "metadata": {
  "kernelspec": {
   "display_name": "Python 3",
   "language": "python",
   "name": "python3"
  },
  "language_info": {
   "codemirror_mode": {
    "name": "ipython",
    "version": 3
   },
   "file_extension": ".py",
   "mimetype": "text/x-python",
   "name": "python",
   "nbconvert_exporter": "python",
   "pygments_lexer": "ipython3",
   "version": "3.6.8"
  }
 },
 "nbformat": 4,
 "nbformat_minor": 2
}
